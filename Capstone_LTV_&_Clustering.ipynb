{
  "nbformat": 4,
  "nbformat_minor": 0,
  "metadata": {
    "accelerator": "GPU",
    "colab": {
      "name": "Capstone_LTV & Clustering.ipynb",
      "provenance": [],
      "collapsed_sections": [],
      "machine_shape": "hm"
    },
    "kernelspec": {
      "display_name": "Python 3",
      "language": "python",
      "name": "python3"
    },
    "language_info": {
      "codemirror_mode": {
        "name": "ipython",
        "version": 3
      },
      "file_extension": ".py",
      "mimetype": "text/x-python",
      "name": "python",
      "nbconvert_exporter": "python",
      "pygments_lexer": "ipython3",
      "version": "3.7.3"
    }
  },
  "cells": [
    {
      "cell_type": "code",
      "metadata": {
        "colab_type": "code",
        "id": "agkCJmPGioam",
        "colab": {}
      },
      "source": [
        "import warnings\n",
        "warnings.simplefilter('ignore')\n",
        "import pandas as pd\n",
        "import numpy as np \n",
        "import matplotlib.pyplot as plt\n",
        "import seaborn as sns\n",
        "import pgeocode\n",
        "nomi = pgeocode.Nominatim('IN')\n",
        "from sklearn.preprocessing import LabelEncoder,StandardScaler\n",
        "from sklearn.model_selection import train_test_split as tts,cross_val_score,ShuffleSplit\n",
        "from imblearn.over_sampling import SMOTE\n",
        "from sklearn.tree import DecisionTreeClassifier\n",
        "from sklearn.ensemble import RandomForestClassifier\n",
        "from xgboost import XGBClassifier\n",
        "from sklearn.cluster import KMeans\n",
        "from sklearn.decomposition import PCA\n",
        "from sklearn.metrics import accuracy_score,f1_score,classification_report,roc_auc_score"
      ],
      "execution_count": 0,
      "outputs": []
    },
    {
      "cell_type": "code",
      "metadata": {
        "id": "EbChLacgz10w",
        "colab_type": "code",
        "outputId": "3df77c4e-40f8-47d6-d9f3-5b28f16c52f0",
        "colab": {
          "base_uri": "https://localhost:8080/",
          "height": 208
        }
      },
      "source": [
        "pip install pgeocode"
      ],
      "execution_count": 22,
      "outputs": [
        {
          "output_type": "stream",
          "text": [
            "Requirement already satisfied: pgeocode in /usr/local/lib/python3.6/dist-packages (0.2.1)\n",
            "Requirement already satisfied: requests in /usr/local/lib/python3.6/dist-packages (from pgeocode) (2.23.0)\n",
            "Requirement already satisfied: numpy in /usr/local/lib/python3.6/dist-packages (from pgeocode) (1.18.5)\n",
            "Requirement already satisfied: pandas in /usr/local/lib/python3.6/dist-packages (from pgeocode) (1.0.4)\n",
            "Requirement already satisfied: certifi>=2017.4.17 in /usr/local/lib/python3.6/dist-packages (from requests->pgeocode) (2020.4.5.1)\n",
            "Requirement already satisfied: urllib3!=1.25.0,!=1.25.1,<1.26,>=1.21.1 in /usr/local/lib/python3.6/dist-packages (from requests->pgeocode) (1.24.3)\n",
            "Requirement already satisfied: idna<3,>=2.5 in /usr/local/lib/python3.6/dist-packages (from requests->pgeocode) (2.9)\n",
            "Requirement already satisfied: chardet<4,>=3.0.2 in /usr/local/lib/python3.6/dist-packages (from requests->pgeocode) (3.0.4)\n",
            "Requirement already satisfied: pytz>=2017.2 in /usr/local/lib/python3.6/dist-packages (from pandas->pgeocode) (2018.9)\n",
            "Requirement already satisfied: python-dateutil>=2.6.1 in /usr/local/lib/python3.6/dist-packages (from pandas->pgeocode) (2.8.1)\n",
            "Requirement already satisfied: six>=1.5 in /usr/local/lib/python3.6/dist-packages (from python-dateutil>=2.6.1->pandas->pgeocode) (1.12.0)\n"
          ],
          "name": "stdout"
        }
      ]
    },
    {
      "cell_type": "code",
      "metadata": {
        "id": "PE81MiAS0FBf",
        "colab_type": "code",
        "colab": {}
      },
      "source": [
        "#from google.colab import drive\n",
        "#drive.mount('/content/drive')"
      ],
      "execution_count": 0,
      "outputs": []
    },
    {
      "cell_type": "code",
      "metadata": {
        "colab_type": "code",
        "id": "IovcOuIGiobD",
        "outputId": "6eac3d7e-08a1-4ab5-e94b-172b52b059af",
        "colab": {
          "base_uri": "https://localhost:8080/",
          "height": 378
        }
      },
      "source": [
        "path = ('/content/drive/My Drive/Capstone/Final_invoice.csv')\n",
        "invoice = pd.read_csv(path)\n",
        "invoice.head()"
      ],
      "execution_count": 24,
      "outputs": [
        {
          "output_type": "execute_result",
          "data": {
            "text/html": [
              "<div>\n",
              "<style scoped>\n",
              "    .dataframe tbody tr th:only-of-type {\n",
              "        vertical-align: middle;\n",
              "    }\n",
              "\n",
              "    .dataframe tbody tr th {\n",
              "        vertical-align: top;\n",
              "    }\n",
              "\n",
              "    .dataframe thead th {\n",
              "        text-align: right;\n",
              "    }\n",
              "</style>\n",
              "<table border=\"1\" class=\"dataframe\">\n",
              "  <thead>\n",
              "    <tr style=\"text-align: right;\">\n",
              "      <th></th>\n",
              "      <th>Unnamed: 0</th>\n",
              "      <th>Amt Rcvd From Custom</th>\n",
              "      <th>Amt Rcvd From Ins Co</th>\n",
              "      <th>Area / Locality</th>\n",
              "      <th>CGST(14%)</th>\n",
              "      <th>CGST(2.5%)</th>\n",
              "      <th>CGST(6%)</th>\n",
              "      <th>CGST(9%)</th>\n",
              "      <th>CITY</th>\n",
              "      <th>Cash /Cashless Type</th>\n",
              "      <th>Claim No.</th>\n",
              "      <th>Cust Type</th>\n",
              "      <th>Customer No.</th>\n",
              "      <th>District</th>\n",
              "      <th>Expiry Date</th>\n",
              "      <th>Gate Pass Date</th>\n",
              "      <th>Gate Pass Time</th>\n",
              "      <th>IGST(12%)</th>\n",
              "      <th>IGST(18%)</th>\n",
              "      <th>IGST(28%)</th>\n",
              "      <th>IGST(5%)</th>\n",
              "      <th>Insurance Company</th>\n",
              "      <th>Invoice Date</th>\n",
              "      <th>Invoice No</th>\n",
              "      <th>Invoice Time</th>\n",
              "      <th>Job Card No</th>\n",
              "      <th>JobCard Date</th>\n",
              "      <th>JobCard Time</th>\n",
              "      <th>KMs Reading</th>\n",
              "      <th>Labour Total</th>\n",
              "      <th>Make</th>\n",
              "      <th>Misc Total</th>\n",
              "      <th>Model</th>\n",
              "      <th>ODN No.</th>\n",
              "      <th>OSL Total</th>\n",
              "      <th>Order Type</th>\n",
              "      <th>Outstanding Amt</th>\n",
              "      <th>Parts Total</th>\n",
              "      <th>Pin code</th>\n",
              "      <th>Plant</th>\n",
              "      <th>Plant Name1</th>\n",
              "      <th>Policy no.</th>\n",
              "      <th>Print Status</th>\n",
              "      <th>Recovrbl Exp</th>\n",
              "      <th>Regn No</th>\n",
              "      <th>SGST/UGST(14%)</th>\n",
              "      <th>SGST/UGST(2.5%)</th>\n",
              "      <th>SGST/UGST(6%)</th>\n",
              "      <th>SGST/UGST(9%)</th>\n",
              "      <th>Service Advisor Name</th>\n",
              "      <th>TDS amount</th>\n",
              "      <th>Technician Name</th>\n",
              "      <th>Total Amt Wtd Tax.</th>\n",
              "      <th>Total CGST</th>\n",
              "      <th>Total GST</th>\n",
              "      <th>Total IGST</th>\n",
              "      <th>Total SGST/UGST</th>\n",
              "      <th>Total Value</th>\n",
              "      <th>User ID</th>\n",
              "    </tr>\n",
              "  </thead>\n",
              "  <tbody>\n",
              "    <tr>\n",
              "      <th>0</th>\n",
              "      <td>0</td>\n",
              "      <td>0.0</td>\n",
              "      <td>0.0</td>\n",
              "      <td>MAJIWADA</td>\n",
              "      <td>0.0</td>\n",
              "      <td>0.0</td>\n",
              "      <td>0.0</td>\n",
              "      <td>0.0</td>\n",
              "      <td>Thane</td>\n",
              "      <td>NaN</td>\n",
              "      <td>NaN</td>\n",
              "      <td>Retail</td>\n",
              "      <td>67849</td>\n",
              "      <td>Maharashtra</td>\n",
              "      <td>NaN</td>\n",
              "      <td>NaN</td>\n",
              "      <td>00:00:00</td>\n",
              "      <td>0.0</td>\n",
              "      <td>0.0</td>\n",
              "      <td>0.0</td>\n",
              "      <td>0.0</td>\n",
              "      <td>NaN</td>\n",
              "      <td>2015-01-02</td>\n",
              "      <td>7005200002</td>\n",
              "      <td>11:30:36</td>\n",
              "      <td>168303</td>\n",
              "      <td>2014-12-13</td>\n",
              "      <td>14:29:43</td>\n",
              "      <td>49317</td>\n",
              "      <td>1203.14</td>\n",
              "      <td>GENERAL MOTORS</td>\n",
              "      <td>0.00</td>\n",
              "      <td>SPARK</td>\n",
              "      <td>7.005200e+09</td>\n",
              "      <td>500.06</td>\n",
              "      <td>Paid Service</td>\n",
              "      <td>0.0</td>\n",
              "      <td>2348.75</td>\n",
              "      <td>400601</td>\n",
              "      <td>BC01</td>\n",
              "      <td>THANE</td>\n",
              "      <td>NaN</td>\n",
              "      <td>NO</td>\n",
              "      <td>0.0</td>\n",
              "      <td>KA19MA1291</td>\n",
              "      <td>0.0</td>\n",
              "      <td>0.0</td>\n",
              "      <td>0.0</td>\n",
              "      <td>0.0</td>\n",
              "      <td>NaN</td>\n",
              "      <td>0.0</td>\n",
              "      <td>RUPESH</td>\n",
              "      <td>4051.95</td>\n",
              "      <td>0.0</td>\n",
              "      <td>0.0</td>\n",
              "      <td>0.0</td>\n",
              "      <td>0.0</td>\n",
              "      <td>4051.95</td>\n",
              "      <td>BC01FS1</td>\n",
              "    </tr>\n",
              "    <tr>\n",
              "      <th>1</th>\n",
              "      <td>1</td>\n",
              "      <td>0.0</td>\n",
              "      <td>0.0</td>\n",
              "      <td>THNAE</td>\n",
              "      <td>0.0</td>\n",
              "      <td>0.0</td>\n",
              "      <td>0.0</td>\n",
              "      <td>0.0</td>\n",
              "      <td>THNAE</td>\n",
              "      <td>NaN</td>\n",
              "      <td>NaN</td>\n",
              "      <td>Retail</td>\n",
              "      <td>84419</td>\n",
              "      <td>Maharashtra</td>\n",
              "      <td>NaN</td>\n",
              "      <td>NaN</td>\n",
              "      <td>00:00:00</td>\n",
              "      <td>0.0</td>\n",
              "      <td>0.0</td>\n",
              "      <td>0.0</td>\n",
              "      <td>0.0</td>\n",
              "      <td>NaN</td>\n",
              "      <td>2015-01-03</td>\n",
              "      <td>7005200003</td>\n",
              "      <td>10:07:32</td>\n",
              "      <td>173997</td>\n",
              "      <td>2015-01-02</td>\n",
              "      <td>14:12:18</td>\n",
              "      <td>78584</td>\n",
              "      <td>804.26</td>\n",
              "      <td>TATA MOTORS</td>\n",
              "      <td>197.03</td>\n",
              "      <td>INDICA</td>\n",
              "      <td>7.005200e+09</td>\n",
              "      <td>0.00</td>\n",
              "      <td>SMC Value Package</td>\n",
              "      <td>0.0</td>\n",
              "      <td>0.00</td>\n",
              "      <td>400603</td>\n",
              "      <td>BC01</td>\n",
              "      <td>THANE</td>\n",
              "      <td>NaN</td>\n",
              "      <td>NO</td>\n",
              "      <td>0.0</td>\n",
              "      <td>MH43R3046</td>\n",
              "      <td>0.0</td>\n",
              "      <td>0.0</td>\n",
              "      <td>0.0</td>\n",
              "      <td>0.0</td>\n",
              "      <td>NaN</td>\n",
              "      <td>0.0</td>\n",
              "      <td>PRASHANT</td>\n",
              "      <td>1001.29</td>\n",
              "      <td>0.0</td>\n",
              "      <td>0.0</td>\n",
              "      <td>0.0</td>\n",
              "      <td>0.0</td>\n",
              "      <td>1001.29</td>\n",
              "      <td>BC01SA2</td>\n",
              "    </tr>\n",
              "    <tr>\n",
              "      <th>2</th>\n",
              "      <td>2</td>\n",
              "      <td>0.0</td>\n",
              "      <td>0.0</td>\n",
              "      <td>THANE</td>\n",
              "      <td>0.0</td>\n",
              "      <td>0.0</td>\n",
              "      <td>0.0</td>\n",
              "      <td>0.0</td>\n",
              "      <td>THANE[W]</td>\n",
              "      <td>NaN</td>\n",
              "      <td>NaN</td>\n",
              "      <td>Retail</td>\n",
              "      <td>81055</td>\n",
              "      <td>Maharashtra</td>\n",
              "      <td>NaN</td>\n",
              "      <td>NaN</td>\n",
              "      <td>00:00:00</td>\n",
              "      <td>0.0</td>\n",
              "      <td>0.0</td>\n",
              "      <td>0.0</td>\n",
              "      <td>0.0</td>\n",
              "      <td>NaN</td>\n",
              "      <td>2015-01-03</td>\n",
              "      <td>7005200004</td>\n",
              "      <td>11:12:57</td>\n",
              "      <td>173889</td>\n",
              "      <td>2015-01-02</td>\n",
              "      <td>11:40:44</td>\n",
              "      <td>33985</td>\n",
              "      <td>180.19</td>\n",
              "      <td>MARUTI SUZUKI</td>\n",
              "      <td>0.00</td>\n",
              "      <td>ZEN</td>\n",
              "      <td>7.005200e+09</td>\n",
              "      <td>0.00</td>\n",
              "      <td>Running Repairs</td>\n",
              "      <td>0.0</td>\n",
              "      <td>52.95</td>\n",
              "      <td>400607</td>\n",
              "      <td>BC01</td>\n",
              "      <td>THANE</td>\n",
              "      <td>NaN</td>\n",
              "      <td>NO</td>\n",
              "      <td>0.0</td>\n",
              "      <td>AP09AX0582</td>\n",
              "      <td>0.0</td>\n",
              "      <td>0.0</td>\n",
              "      <td>0.0</td>\n",
              "      <td>0.0</td>\n",
              "      <td>NaN</td>\n",
              "      <td>0.0</td>\n",
              "      <td>IMRAN</td>\n",
              "      <td>233.14</td>\n",
              "      <td>0.0</td>\n",
              "      <td>0.0</td>\n",
              "      <td>0.0</td>\n",
              "      <td>0.0</td>\n",
              "      <td>233.14</td>\n",
              "      <td>BC01SA2</td>\n",
              "    </tr>\n",
              "    <tr>\n",
              "      <th>3</th>\n",
              "      <td>3</td>\n",
              "      <td>0.0</td>\n",
              "      <td>0.0</td>\n",
              "      <td>THNAE</td>\n",
              "      <td>0.0</td>\n",
              "      <td>0.0</td>\n",
              "      <td>0.0</td>\n",
              "      <td>0.0</td>\n",
              "      <td>THNAE</td>\n",
              "      <td>NaN</td>\n",
              "      <td>NaN</td>\n",
              "      <td>Retail</td>\n",
              "      <td>84419</td>\n",
              "      <td>Maharashtra</td>\n",
              "      <td>NaN</td>\n",
              "      <td>NaN</td>\n",
              "      <td>00:00:00</td>\n",
              "      <td>0.0</td>\n",
              "      <td>0.0</td>\n",
              "      <td>0.0</td>\n",
              "      <td>0.0</td>\n",
              "      <td>NaN</td>\n",
              "      <td>2015-01-03</td>\n",
              "      <td>7005200005</td>\n",
              "      <td>11:40:44</td>\n",
              "      <td>174158</td>\n",
              "      <td>2015-01-03</td>\n",
              "      <td>10:12:32</td>\n",
              "      <td>78584</td>\n",
              "      <td>0.00</td>\n",
              "      <td>TATA MOTORS</td>\n",
              "      <td>0.00</td>\n",
              "      <td>INDICA</td>\n",
              "      <td>7.005200e+09</td>\n",
              "      <td>0.00</td>\n",
              "      <td>SMC Redemption</td>\n",
              "      <td>0.0</td>\n",
              "      <td>0.00</td>\n",
              "      <td>400603</td>\n",
              "      <td>BC01</td>\n",
              "      <td>THANE</td>\n",
              "      <td>NaN</td>\n",
              "      <td>NO</td>\n",
              "      <td>0.0</td>\n",
              "      <td>MH43R3046</td>\n",
              "      <td>0.0</td>\n",
              "      <td>0.0</td>\n",
              "      <td>0.0</td>\n",
              "      <td>0.0</td>\n",
              "      <td>NaN</td>\n",
              "      <td>0.0</td>\n",
              "      <td>PRASHANT</td>\n",
              "      <td>0.00</td>\n",
              "      <td>0.0</td>\n",
              "      <td>0.0</td>\n",
              "      <td>0.0</td>\n",
              "      <td>0.0</td>\n",
              "      <td>0.00</td>\n",
              "      <td>BC01SA2</td>\n",
              "    </tr>\n",
              "    <tr>\n",
              "      <th>4</th>\n",
              "      <td>4</td>\n",
              "      <td>0.0</td>\n",
              "      <td>0.0</td>\n",
              "      <td>THANE</td>\n",
              "      <td>0.0</td>\n",
              "      <td>0.0</td>\n",
              "      <td>0.0</td>\n",
              "      <td>0.0</td>\n",
              "      <td>THANE</td>\n",
              "      <td>NaN</td>\n",
              "      <td>NaN</td>\n",
              "      <td>Retail</td>\n",
              "      <td>18980</td>\n",
              "      <td>Maharashtra</td>\n",
              "      <td>NaN</td>\n",
              "      <td>NaN</td>\n",
              "      <td>00:00:00</td>\n",
              "      <td>0.0</td>\n",
              "      <td>0.0</td>\n",
              "      <td>0.0</td>\n",
              "      <td>0.0</td>\n",
              "      <td>NaN</td>\n",
              "      <td>2015-01-03</td>\n",
              "      <td>7005200006</td>\n",
              "      <td>12:07:17</td>\n",
              "      <td>173860</td>\n",
              "      <td>2015-01-02</td>\n",
              "      <td>10:45:42</td>\n",
              "      <td>50057</td>\n",
              "      <td>1202.97</td>\n",
              "      <td>HYUNDAI</td>\n",
              "      <td>100.00</td>\n",
              "      <td>SANTRO XING</td>\n",
              "      <td>7.005200e+09</td>\n",
              "      <td>499.99</td>\n",
              "      <td>Paid Service</td>\n",
              "      <td>0.0</td>\n",
              "      <td>944.16</td>\n",
              "      <td>400603</td>\n",
              "      <td>BC01</td>\n",
              "      <td>THANE</td>\n",
              "      <td>NaN</td>\n",
              "      <td>NO</td>\n",
              "      <td>0.0</td>\n",
              "      <td>MH04CD9768</td>\n",
              "      <td>0.0</td>\n",
              "      <td>0.0</td>\n",
              "      <td>0.0</td>\n",
              "      <td>0.0</td>\n",
              "      <td>NaN</td>\n",
              "      <td>0.0</td>\n",
              "      <td>DAYANAND</td>\n",
              "      <td>2747.12</td>\n",
              "      <td>0.0</td>\n",
              "      <td>0.0</td>\n",
              "      <td>0.0</td>\n",
              "      <td>0.0</td>\n",
              "      <td>2747.12</td>\n",
              "      <td>BC01SA2</td>\n",
              "    </tr>\n",
              "  </tbody>\n",
              "</table>\n",
              "</div>"
            ],
            "text/plain": [
              "   Unnamed: 0  Amt Rcvd From Custom  Amt Rcvd From Ins Co Area / Locality  \\\n",
              "0           0                   0.0                   0.0        MAJIWADA   \n",
              "1           1                   0.0                   0.0           THNAE   \n",
              "2           2                   0.0                   0.0           THANE   \n",
              "3           3                   0.0                   0.0           THNAE   \n",
              "4           4                   0.0                   0.0           THANE   \n",
              "\n",
              "   CGST(14%)  CGST(2.5%)  CGST(6%)  CGST(9%)      CITY Cash /Cashless Type  \\\n",
              "0        0.0         0.0       0.0       0.0     Thane                 NaN   \n",
              "1        0.0         0.0       0.0       0.0     THNAE                 NaN   \n",
              "2        0.0         0.0       0.0       0.0  THANE[W]                 NaN   \n",
              "3        0.0         0.0       0.0       0.0     THNAE                 NaN   \n",
              "4        0.0         0.0       0.0       0.0     THANE                 NaN   \n",
              "\n",
              "  Claim No. Cust Type Customer No.     District Expiry Date Gate Pass Date  \\\n",
              "0       NaN    Retail        67849  Maharashtra         NaN            NaN   \n",
              "1       NaN    Retail        84419  Maharashtra         NaN            NaN   \n",
              "2       NaN    Retail        81055  Maharashtra         NaN            NaN   \n",
              "3       NaN    Retail        84419  Maharashtra         NaN            NaN   \n",
              "4       NaN    Retail        18980  Maharashtra         NaN            NaN   \n",
              "\n",
              "  Gate Pass Time  IGST(12%)  IGST(18%)  IGST(28%)  IGST(5%) Insurance Company  \\\n",
              "0       00:00:00        0.0        0.0        0.0       0.0               NaN   \n",
              "1       00:00:00        0.0        0.0        0.0       0.0               NaN   \n",
              "2       00:00:00        0.0        0.0        0.0       0.0               NaN   \n",
              "3       00:00:00        0.0        0.0        0.0       0.0               NaN   \n",
              "4       00:00:00        0.0        0.0        0.0       0.0               NaN   \n",
              "\n",
              "  Invoice Date  Invoice No Invoice Time  Job Card No JobCard Date  \\\n",
              "0   2015-01-02  7005200002     11:30:36       168303   2014-12-13   \n",
              "1   2015-01-03  7005200003     10:07:32       173997   2015-01-02   \n",
              "2   2015-01-03  7005200004     11:12:57       173889   2015-01-02   \n",
              "3   2015-01-03  7005200005     11:40:44       174158   2015-01-03   \n",
              "4   2015-01-03  7005200006     12:07:17       173860   2015-01-02   \n",
              "\n",
              "  JobCard Time  KMs Reading  Labour Total            Make  Misc Total  \\\n",
              "0     14:29:43        49317       1203.14  GENERAL MOTORS        0.00   \n",
              "1     14:12:18        78584        804.26     TATA MOTORS      197.03   \n",
              "2     11:40:44        33985        180.19   MARUTI SUZUKI        0.00   \n",
              "3     10:12:32        78584          0.00     TATA MOTORS        0.00   \n",
              "4     10:45:42        50057       1202.97         HYUNDAI      100.00   \n",
              "\n",
              "         Model       ODN No.  OSL Total         Order Type  Outstanding Amt  \\\n",
              "0        SPARK  7.005200e+09     500.06       Paid Service              0.0   \n",
              "1       INDICA  7.005200e+09       0.00  SMC Value Package              0.0   \n",
              "2          ZEN  7.005200e+09       0.00    Running Repairs              0.0   \n",
              "3       INDICA  7.005200e+09       0.00     SMC Redemption              0.0   \n",
              "4  SANTRO XING  7.005200e+09     499.99       Paid Service              0.0   \n",
              "\n",
              "   Parts Total  Pin code Plant Plant Name1 Policy no. Print Status  \\\n",
              "0      2348.75    400601  BC01       THANE        NaN           NO   \n",
              "1         0.00    400603  BC01       THANE        NaN           NO   \n",
              "2        52.95    400607  BC01       THANE        NaN           NO   \n",
              "3         0.00    400603  BC01       THANE        NaN           NO   \n",
              "4       944.16    400603  BC01       THANE        NaN           NO   \n",
              "\n",
              "   Recovrbl Exp     Regn No  SGST/UGST(14%)  SGST/UGST(2.5%)  SGST/UGST(6%)  \\\n",
              "0           0.0  KA19MA1291             0.0              0.0            0.0   \n",
              "1           0.0   MH43R3046             0.0              0.0            0.0   \n",
              "2           0.0  AP09AX0582             0.0              0.0            0.0   \n",
              "3           0.0   MH43R3046             0.0              0.0            0.0   \n",
              "4           0.0  MH04CD9768             0.0              0.0            0.0   \n",
              "\n",
              "   SGST/UGST(9%)  Service Advisor Name  TDS amount Technician Name  \\\n",
              "0            0.0                   NaN         0.0          RUPESH   \n",
              "1            0.0                   NaN         0.0        PRASHANT   \n",
              "2            0.0                   NaN         0.0           IMRAN   \n",
              "3            0.0                   NaN         0.0        PRASHANT   \n",
              "4            0.0                   NaN         0.0        DAYANAND   \n",
              "\n",
              "   Total Amt Wtd Tax.  Total CGST  Total GST  Total IGST  Total SGST/UGST  \\\n",
              "0             4051.95         0.0        0.0         0.0              0.0   \n",
              "1             1001.29         0.0        0.0         0.0              0.0   \n",
              "2              233.14         0.0        0.0         0.0              0.0   \n",
              "3                0.00         0.0        0.0         0.0              0.0   \n",
              "4             2747.12         0.0        0.0         0.0              0.0   \n",
              "\n",
              "   Total Value  User ID  \n",
              "0      4051.95  BC01FS1  \n",
              "1      1001.29  BC01SA2  \n",
              "2       233.14  BC01SA2  \n",
              "3         0.00  BC01SA2  \n",
              "4      2747.12  BC01SA2  "
            ]
          },
          "metadata": {
            "tags": []
          },
          "execution_count": 24
        }
      ]
    },
    {
      "cell_type": "code",
      "metadata": {
        "colab_type": "code",
        "id": "lsffmVJ6iobf",
        "outputId": "3893e795-7b2a-4480-b7e8-6b5d3fe278f6",
        "colab": {
          "base_uri": "https://localhost:8080/",
          "height": 35
        }
      },
      "source": [
        "invoice.shape"
      ],
      "execution_count": 25,
      "outputs": [
        {
          "output_type": "execute_result",
          "data": {
            "text/plain": [
              "(492314, 59)"
            ]
          },
          "metadata": {
            "tags": []
          },
          "execution_count": 25
        }
      ]
    },
    {
      "cell_type": "code",
      "metadata": {
        "colab_type": "code",
        "id": "6ZiFDMwCioby",
        "colab": {}
      },
      "source": [
        "invoice_missing=pd.DataFrame(invoice.isnull().sum()/invoice.shape[0]*100,columns=[\"Missing\"])"
      ],
      "execution_count": 0,
      "outputs": []
    },
    {
      "cell_type": "markdown",
      "metadata": {
        "colab_type": "text",
        "id": "-LkOxlfTiocP"
      },
      "source": [
        "#### Drop columns containing more than 60% missing values"
      ]
    },
    {
      "cell_type": "code",
      "metadata": {
        "colab_type": "code",
        "id": "Lemr3dpUiocU",
        "colab": {}
      },
      "source": [
        "invoice.drop(list(invoice_missing[invoice_missing[\"Missing\"]>60].index),1,inplace=True)"
      ],
      "execution_count": 0,
      "outputs": []
    },
    {
      "cell_type": "code",
      "metadata": {
        "colab_type": "code",
        "id": "t15MDrZ6ioci",
        "outputId": "cb770bcd-44fb-40cf-f79b-658a64284cef",
        "colab": {
          "base_uri": "https://localhost:8080/",
          "height": 35
        }
      },
      "source": [
        "invoice.shape"
      ],
      "execution_count": 28,
      "outputs": [
        {
          "output_type": "execute_result",
          "data": {
            "text/plain": [
              "(492314, 52)"
            ]
          },
          "metadata": {
            "tags": []
          },
          "execution_count": 28
        }
      ]
    },
    {
      "cell_type": "code",
      "metadata": {
        "colab_type": "code",
        "id": "AQSBMtyFiocs",
        "outputId": "bd6f4030-2cc8-4cc9-b9d4-732a7942fe04",
        "colab": {
          "base_uri": "https://localhost:8080/",
          "height": 35
        }
      },
      "source": [
        "pd.set_option('display.max_columns', None)\n",
        "invoice.drop([\"Unnamed: 0\"],1,inplace=True)\n",
        "invoice.shape"
      ],
      "execution_count": 29,
      "outputs": [
        {
          "output_type": "execute_result",
          "data": {
            "text/plain": [
              "(492314, 51)"
            ]
          },
          "metadata": {
            "tags": []
          },
          "execution_count": 29
        }
      ]
    },
    {
      "cell_type": "code",
      "metadata": {
        "colab_type": "code",
        "id": "T6VX-kIViodB",
        "colab": {}
      },
      "source": [
        "remove_cols=list(invoice_missing[(invoice_missing[\"Missing\"]>39) & (invoice_missing[\"Missing\"]<90)].index)"
      ],
      "execution_count": 0,
      "outputs": []
    },
    {
      "cell_type": "code",
      "metadata": {
        "colab_type": "code",
        "id": "PI775Q95iodK",
        "colab": {}
      },
      "source": [
        "remove_cols.remove(\"ODN No.\")\n",
        "remove_cols.remove('Outstanding Amt')\n",
        "remove_cols.remove('Technician Name')\n",
        "remove_cols.remove('Total Value')"
      ],
      "execution_count": 0,
      "outputs": []
    },
    {
      "cell_type": "code",
      "metadata": {
        "colab_type": "code",
        "id": "Weg8naIqiodX",
        "outputId": "262de656-53d0-40a6-c5bf-b6761b2a38b9",
        "colab": {
          "base_uri": "https://localhost:8080/",
          "height": 35
        }
      },
      "source": [
        "invoice.drop(remove_cols,1,inplace=True)\n",
        "invoice.shape"
      ],
      "execution_count": 32,
      "outputs": [
        {
          "output_type": "execute_result",
          "data": {
            "text/plain": [
              "(492314, 32)"
            ]
          },
          "metadata": {
            "tags": []
          },
          "execution_count": 32
        }
      ]
    },
    {
      "cell_type": "code",
      "metadata": {
        "colab_type": "code",
        "id": "M0VhDdB5iodk",
        "outputId": "fb887987-7c55-4c8b-f88e-38dd4c327dbd",
        "colab": {
          "base_uri": "https://localhost:8080/",
          "height": 361
        }
      },
      "source": [
        "invoice.head()"
      ],
      "execution_count": 33,
      "outputs": [
        {
          "output_type": "execute_result",
          "data": {
            "text/html": [
              "<div>\n",
              "<style scoped>\n",
              "    .dataframe tbody tr th:only-of-type {\n",
              "        vertical-align: middle;\n",
              "    }\n",
              "\n",
              "    .dataframe tbody tr th {\n",
              "        vertical-align: top;\n",
              "    }\n",
              "\n",
              "    .dataframe thead th {\n",
              "        text-align: right;\n",
              "    }\n",
              "</style>\n",
              "<table border=\"1\" class=\"dataframe\">\n",
              "  <thead>\n",
              "    <tr style=\"text-align: right;\">\n",
              "      <th></th>\n",
              "      <th>Area / Locality</th>\n",
              "      <th>CITY</th>\n",
              "      <th>Cust Type</th>\n",
              "      <th>Customer No.</th>\n",
              "      <th>District</th>\n",
              "      <th>Gate Pass Time</th>\n",
              "      <th>Invoice Date</th>\n",
              "      <th>Invoice No</th>\n",
              "      <th>Invoice Time</th>\n",
              "      <th>Job Card No</th>\n",
              "      <th>JobCard Date</th>\n",
              "      <th>JobCard Time</th>\n",
              "      <th>KMs Reading</th>\n",
              "      <th>Labour Total</th>\n",
              "      <th>Make</th>\n",
              "      <th>Misc Total</th>\n",
              "      <th>Model</th>\n",
              "      <th>ODN No.</th>\n",
              "      <th>OSL Total</th>\n",
              "      <th>Order Type</th>\n",
              "      <th>Outstanding Amt</th>\n",
              "      <th>Parts Total</th>\n",
              "      <th>Pin code</th>\n",
              "      <th>Plant</th>\n",
              "      <th>Plant Name1</th>\n",
              "      <th>Print Status</th>\n",
              "      <th>Recovrbl Exp</th>\n",
              "      <th>Regn No</th>\n",
              "      <th>Technician Name</th>\n",
              "      <th>Total Amt Wtd Tax.</th>\n",
              "      <th>Total Value</th>\n",
              "      <th>User ID</th>\n",
              "    </tr>\n",
              "  </thead>\n",
              "  <tbody>\n",
              "    <tr>\n",
              "      <th>0</th>\n",
              "      <td>MAJIWADA</td>\n",
              "      <td>Thane</td>\n",
              "      <td>Retail</td>\n",
              "      <td>67849</td>\n",
              "      <td>Maharashtra</td>\n",
              "      <td>00:00:00</td>\n",
              "      <td>2015-01-02</td>\n",
              "      <td>7005200002</td>\n",
              "      <td>11:30:36</td>\n",
              "      <td>168303</td>\n",
              "      <td>2014-12-13</td>\n",
              "      <td>14:29:43</td>\n",
              "      <td>49317</td>\n",
              "      <td>1203.14</td>\n",
              "      <td>GENERAL MOTORS</td>\n",
              "      <td>0.00</td>\n",
              "      <td>SPARK</td>\n",
              "      <td>7.005200e+09</td>\n",
              "      <td>500.06</td>\n",
              "      <td>Paid Service</td>\n",
              "      <td>0.0</td>\n",
              "      <td>2348.75</td>\n",
              "      <td>400601</td>\n",
              "      <td>BC01</td>\n",
              "      <td>THANE</td>\n",
              "      <td>NO</td>\n",
              "      <td>0.0</td>\n",
              "      <td>KA19MA1291</td>\n",
              "      <td>RUPESH</td>\n",
              "      <td>4051.95</td>\n",
              "      <td>4051.95</td>\n",
              "      <td>BC01FS1</td>\n",
              "    </tr>\n",
              "    <tr>\n",
              "      <th>1</th>\n",
              "      <td>THNAE</td>\n",
              "      <td>THNAE</td>\n",
              "      <td>Retail</td>\n",
              "      <td>84419</td>\n",
              "      <td>Maharashtra</td>\n",
              "      <td>00:00:00</td>\n",
              "      <td>2015-01-03</td>\n",
              "      <td>7005200003</td>\n",
              "      <td>10:07:32</td>\n",
              "      <td>173997</td>\n",
              "      <td>2015-01-02</td>\n",
              "      <td>14:12:18</td>\n",
              "      <td>78584</td>\n",
              "      <td>804.26</td>\n",
              "      <td>TATA MOTORS</td>\n",
              "      <td>197.03</td>\n",
              "      <td>INDICA</td>\n",
              "      <td>7.005200e+09</td>\n",
              "      <td>0.00</td>\n",
              "      <td>SMC Value Package</td>\n",
              "      <td>0.0</td>\n",
              "      <td>0.00</td>\n",
              "      <td>400603</td>\n",
              "      <td>BC01</td>\n",
              "      <td>THANE</td>\n",
              "      <td>NO</td>\n",
              "      <td>0.0</td>\n",
              "      <td>MH43R3046</td>\n",
              "      <td>PRASHANT</td>\n",
              "      <td>1001.29</td>\n",
              "      <td>1001.29</td>\n",
              "      <td>BC01SA2</td>\n",
              "    </tr>\n",
              "    <tr>\n",
              "      <th>2</th>\n",
              "      <td>THANE</td>\n",
              "      <td>THANE[W]</td>\n",
              "      <td>Retail</td>\n",
              "      <td>81055</td>\n",
              "      <td>Maharashtra</td>\n",
              "      <td>00:00:00</td>\n",
              "      <td>2015-01-03</td>\n",
              "      <td>7005200004</td>\n",
              "      <td>11:12:57</td>\n",
              "      <td>173889</td>\n",
              "      <td>2015-01-02</td>\n",
              "      <td>11:40:44</td>\n",
              "      <td>33985</td>\n",
              "      <td>180.19</td>\n",
              "      <td>MARUTI SUZUKI</td>\n",
              "      <td>0.00</td>\n",
              "      <td>ZEN</td>\n",
              "      <td>7.005200e+09</td>\n",
              "      <td>0.00</td>\n",
              "      <td>Running Repairs</td>\n",
              "      <td>0.0</td>\n",
              "      <td>52.95</td>\n",
              "      <td>400607</td>\n",
              "      <td>BC01</td>\n",
              "      <td>THANE</td>\n",
              "      <td>NO</td>\n",
              "      <td>0.0</td>\n",
              "      <td>AP09AX0582</td>\n",
              "      <td>IMRAN</td>\n",
              "      <td>233.14</td>\n",
              "      <td>233.14</td>\n",
              "      <td>BC01SA2</td>\n",
              "    </tr>\n",
              "    <tr>\n",
              "      <th>3</th>\n",
              "      <td>THNAE</td>\n",
              "      <td>THNAE</td>\n",
              "      <td>Retail</td>\n",
              "      <td>84419</td>\n",
              "      <td>Maharashtra</td>\n",
              "      <td>00:00:00</td>\n",
              "      <td>2015-01-03</td>\n",
              "      <td>7005200005</td>\n",
              "      <td>11:40:44</td>\n",
              "      <td>174158</td>\n",
              "      <td>2015-01-03</td>\n",
              "      <td>10:12:32</td>\n",
              "      <td>78584</td>\n",
              "      <td>0.00</td>\n",
              "      <td>TATA MOTORS</td>\n",
              "      <td>0.00</td>\n",
              "      <td>INDICA</td>\n",
              "      <td>7.005200e+09</td>\n",
              "      <td>0.00</td>\n",
              "      <td>SMC Redemption</td>\n",
              "      <td>0.0</td>\n",
              "      <td>0.00</td>\n",
              "      <td>400603</td>\n",
              "      <td>BC01</td>\n",
              "      <td>THANE</td>\n",
              "      <td>NO</td>\n",
              "      <td>0.0</td>\n",
              "      <td>MH43R3046</td>\n",
              "      <td>PRASHANT</td>\n",
              "      <td>0.00</td>\n",
              "      <td>0.00</td>\n",
              "      <td>BC01SA2</td>\n",
              "    </tr>\n",
              "    <tr>\n",
              "      <th>4</th>\n",
              "      <td>THANE</td>\n",
              "      <td>THANE</td>\n",
              "      <td>Retail</td>\n",
              "      <td>18980</td>\n",
              "      <td>Maharashtra</td>\n",
              "      <td>00:00:00</td>\n",
              "      <td>2015-01-03</td>\n",
              "      <td>7005200006</td>\n",
              "      <td>12:07:17</td>\n",
              "      <td>173860</td>\n",
              "      <td>2015-01-02</td>\n",
              "      <td>10:45:42</td>\n",
              "      <td>50057</td>\n",
              "      <td>1202.97</td>\n",
              "      <td>HYUNDAI</td>\n",
              "      <td>100.00</td>\n",
              "      <td>SANTRO XING</td>\n",
              "      <td>7.005200e+09</td>\n",
              "      <td>499.99</td>\n",
              "      <td>Paid Service</td>\n",
              "      <td>0.0</td>\n",
              "      <td>944.16</td>\n",
              "      <td>400603</td>\n",
              "      <td>BC01</td>\n",
              "      <td>THANE</td>\n",
              "      <td>NO</td>\n",
              "      <td>0.0</td>\n",
              "      <td>MH04CD9768</td>\n",
              "      <td>DAYANAND</td>\n",
              "      <td>2747.12</td>\n",
              "      <td>2747.12</td>\n",
              "      <td>BC01SA2</td>\n",
              "    </tr>\n",
              "  </tbody>\n",
              "</table>\n",
              "</div>"
            ],
            "text/plain": [
              "  Area / Locality      CITY Cust Type Customer No.     District  \\\n",
              "0        MAJIWADA     Thane    Retail        67849  Maharashtra   \n",
              "1           THNAE     THNAE    Retail        84419  Maharashtra   \n",
              "2           THANE  THANE[W]    Retail        81055  Maharashtra   \n",
              "3           THNAE     THNAE    Retail        84419  Maharashtra   \n",
              "4           THANE     THANE    Retail        18980  Maharashtra   \n",
              "\n",
              "  Gate Pass Time Invoice Date  Invoice No Invoice Time  Job Card No  \\\n",
              "0       00:00:00   2015-01-02  7005200002     11:30:36       168303   \n",
              "1       00:00:00   2015-01-03  7005200003     10:07:32       173997   \n",
              "2       00:00:00   2015-01-03  7005200004     11:12:57       173889   \n",
              "3       00:00:00   2015-01-03  7005200005     11:40:44       174158   \n",
              "4       00:00:00   2015-01-03  7005200006     12:07:17       173860   \n",
              "\n",
              "  JobCard Date JobCard Time  KMs Reading  Labour Total            Make  \\\n",
              "0   2014-12-13     14:29:43        49317       1203.14  GENERAL MOTORS   \n",
              "1   2015-01-02     14:12:18        78584        804.26     TATA MOTORS   \n",
              "2   2015-01-02     11:40:44        33985        180.19   MARUTI SUZUKI   \n",
              "3   2015-01-03     10:12:32        78584          0.00     TATA MOTORS   \n",
              "4   2015-01-02     10:45:42        50057       1202.97         HYUNDAI   \n",
              "\n",
              "   Misc Total        Model       ODN No.  OSL Total         Order Type  \\\n",
              "0        0.00        SPARK  7.005200e+09     500.06       Paid Service   \n",
              "1      197.03       INDICA  7.005200e+09       0.00  SMC Value Package   \n",
              "2        0.00          ZEN  7.005200e+09       0.00    Running Repairs   \n",
              "3        0.00       INDICA  7.005200e+09       0.00     SMC Redemption   \n",
              "4      100.00  SANTRO XING  7.005200e+09     499.99       Paid Service   \n",
              "\n",
              "   Outstanding Amt  Parts Total  Pin code Plant Plant Name1 Print Status  \\\n",
              "0              0.0      2348.75    400601  BC01       THANE           NO   \n",
              "1              0.0         0.00    400603  BC01       THANE           NO   \n",
              "2              0.0        52.95    400607  BC01       THANE           NO   \n",
              "3              0.0         0.00    400603  BC01       THANE           NO   \n",
              "4              0.0       944.16    400603  BC01       THANE           NO   \n",
              "\n",
              "   Recovrbl Exp     Regn No Technician Name  Total Amt Wtd Tax.  Total Value  \\\n",
              "0           0.0  KA19MA1291          RUPESH             4051.95      4051.95   \n",
              "1           0.0   MH43R3046        PRASHANT             1001.29      1001.29   \n",
              "2           0.0  AP09AX0582           IMRAN              233.14       233.14   \n",
              "3           0.0   MH43R3046        PRASHANT                0.00         0.00   \n",
              "4           0.0  MH04CD9768        DAYANAND             2747.12      2747.12   \n",
              "\n",
              "   User ID  \n",
              "0  BC01FS1  \n",
              "1  BC01SA2  \n",
              "2  BC01SA2  \n",
              "3  BC01SA2  \n",
              "4  BC01SA2  "
            ]
          },
          "metadata": {
            "tags": []
          },
          "execution_count": 33
        }
      ]
    },
    {
      "cell_type": "markdown",
      "metadata": {
        "colab_type": "text",
        "id": "uvX9Ex1xiodv"
      },
      "source": [
        "#### Convert \"Invoice Date\" and \"Inovoice Time\" to datetime format, similarly for \"JobCard TIme\" and \"JobCard Date\""
      ]
    },
    {
      "cell_type": "code",
      "metadata": {
        "colab_type": "code",
        "id": "GREAcC_Diody",
        "colab": {}
      },
      "source": [
        "invoice[\"Invoice_DateTime\"]=pd.to_datetime(invoice[\"Invoice Date\"]+\" \"+invoice[\"Invoice Time\"])\n",
        "invoice[\"JobCard_DateTime\"]=pd.to_datetime(invoice[\"JobCard Date\"]+\" \"+invoice[\"JobCard Time\"])"
      ],
      "execution_count": 0,
      "outputs": []
    },
    {
      "cell_type": "markdown",
      "metadata": {
        "colab_type": "text",
        "id": "31nwBH-2iod7"
      },
      "source": [
        "#### Drop columns which are already combined "
      ]
    },
    {
      "cell_type": "code",
      "metadata": {
        "colab_type": "code",
        "id": "s9AeJw6yiod_",
        "colab": {}
      },
      "source": [
        "invoice.drop([\"Invoice Date\",\"Invoice Time\",\"JobCard Date\",\"JobCard Time\"],1,inplace=True)"
      ],
      "execution_count": 0,
      "outputs": []
    },
    {
      "cell_type": "markdown",
      "metadata": {
        "colab_type": "text",
        "id": "zDfvtHskioeJ"
      },
      "source": [
        "#### Calculate Service Time based on JobCard Datetime and Invoice Datetime"
      ]
    },
    {
      "cell_type": "code",
      "metadata": {
        "colab_type": "code",
        "id": "cpXaZtKaioeL",
        "colab": {}
      },
      "source": [
        "invoice[\"Service_Time\"]=invoice[\"Invoice_DateTime\"]-invoice[\"JobCard_DateTime\"]"
      ],
      "execution_count": 0,
      "outputs": []
    },
    {
      "cell_type": "markdown",
      "metadata": {
        "colab_type": "text",
        "id": "owbZiTdYioeR"
      },
      "source": [
        "#### Drop unnecessary columns"
      ]
    },
    {
      "cell_type": "code",
      "metadata": {
        "colab_type": "code",
        "id": "HbJTfnCDioeT",
        "colab": {}
      },
      "source": [
        "invoice.drop([\"Labour Total\",\"Misc Total\",\"OSL Total\",\"Parts Total\",\"Total Amt Wtd Tax.\"],1,inplace=True)"
      ],
      "execution_count": 0,
      "outputs": []
    },
    {
      "cell_type": "code",
      "metadata": {
        "colab_type": "code",
        "id": "dwoVeBtvioed",
        "outputId": "00cd2f9c-62e9-48e1-d8e4-2f60d82d7d3c",
        "colab": {
          "base_uri": "https://localhost:8080/",
          "height": 35
        }
      },
      "source": [
        "invoice.shape"
      ],
      "execution_count": 38,
      "outputs": [
        {
          "output_type": "execute_result",
          "data": {
            "text/plain": [
              "(492314, 26)"
            ]
          },
          "metadata": {
            "tags": []
          },
          "execution_count": 38
        }
      ]
    },
    {
      "cell_type": "markdown",
      "metadata": {
        "colab_type": "text",
        "id": "TcNMoVYmioel"
      },
      "source": [
        "#### Cleaning \"Area/Locality\", \"City\" and \"District\" columns "
      ]
    },
    {
      "cell_type": "markdown",
      "metadata": {
        "id": "30YqIu4c2y8v",
        "colab_type": "text"
      },
      "source": [
        "Since there are Cities,States and Areas with unclear name,We used the Geopy Nominatim Api to extract the correct names using the pincodes given in our dataset."
      ]
    },
    {
      "cell_type": "code",
      "metadata": {
        "colab_type": "code",
        "id": "HXB5yHL9ioeo",
        "colab": {}
      },
      "source": [
        "invoice[\"Clean_CITY\"]=nomi.query_postal_code(np.array(invoice[\"Pin code\"].astype(str))).county_name\n",
        "invoice[\"Clean_District\"]=nomi.query_postal_code(np.array(invoice[\"Pin code\"].astype(str))).state_name\n",
        "invoice[\"Clean_Location_Area\"]=nomi.query_postal_code(np.array(invoice[\"Pin code\"].astype(str))).place_name"
      ],
      "execution_count": 0,
      "outputs": []
    },
    {
      "cell_type": "markdown",
      "metadata": {
        "colab_type": "text",
        "id": "soUsnSvWioev"
      },
      "source": [
        "#### Dropping old  \"Area/Locality\", \"City\" and \"District\" columns "
      ]
    },
    {
      "cell_type": "code",
      "metadata": {
        "colab_type": "code",
        "id": "K_NOc47vioey",
        "colab": {}
      },
      "source": [
        "invoice.drop([\"Area / Locality\",\"CITY\",\"District\"],1,inplace=True)"
      ],
      "execution_count": 0,
      "outputs": []
    },
    {
      "cell_type": "code",
      "metadata": {
        "colab_type": "code",
        "id": "oMG0M0Roioe7",
        "colab": {}
      },
      "source": [
        "invoice.drop([\"Outstanding Amt\"],1,inplace=True)"
      ],
      "execution_count": 0,
      "outputs": []
    },
    {
      "cell_type": "code",
      "metadata": {
        "colab_type": "code",
        "id": "G0pBmsBsiofC",
        "colab": {}
      },
      "source": [
        "invoice[\"Year\"]=invoice[\"Invoice_DateTime\"].dt.year"
      ],
      "execution_count": 0,
      "outputs": []
    },
    {
      "cell_type": "code",
      "metadata": {
        "colab_type": "code",
        "id": "DCGwM4f3iofK",
        "outputId": "820b131b-eea9-4b5d-e162-5afab451e7cf",
        "colab": {
          "base_uri": "https://localhost:8080/",
          "height": 35
        }
      },
      "source": [
        "invoice.shape"
      ],
      "execution_count": 43,
      "outputs": [
        {
          "output_type": "execute_result",
          "data": {
            "text/plain": [
              "(492314, 26)"
            ]
          },
          "metadata": {
            "tags": []
          },
          "execution_count": 43
        }
      ]
    },
    {
      "cell_type": "markdown",
      "metadata": {
        "colab_type": "text",
        "id": "S-N_WbWLiofR"
      },
      "source": [
        "#### Calculation of Life Time Value for each customer over a period of 2013-2015 (3 years) based on \"Make\" and \"Model\" of the cars for only \"Running Repairs\""
      ]
    },
    {
      "cell_type": "code",
      "metadata": {
        "colab_type": "code",
        "id": "mKAeRcMeiofU",
        "colab": {}
      },
      "source": [
        "invoice_13_15=invoice[invoice[\"Year\"].isin([2013,2014,2015])]"
      ],
      "execution_count": 0,
      "outputs": []
    },
    {
      "cell_type": "code",
      "metadata": {
        "colab_type": "code",
        "id": "4iczUaJgiofa",
        "outputId": "332d0166-5ced-483d-e93b-014fdfbedfd7",
        "colab": {
          "base_uri": "https://localhost:8080/",
          "height": 35
        }
      },
      "source": [
        "invoice_13_15.shape"
      ],
      "execution_count": 45,
      "outputs": [
        {
          "output_type": "execute_result",
          "data": {
            "text/plain": [
              "(276393, 26)"
            ]
          },
          "metadata": {
            "tags": []
          },
          "execution_count": 45
        }
      ]
    },
    {
      "cell_type": "code",
      "metadata": {
        "colab_type": "code",
        "id": "_z_JoZBBiofh",
        "colab": {}
      },
      "source": [
        "invoice_13_15[\"Service_Time_Hours\"]=invoice_13_15[\"Service_Time\"]/np.timedelta64(1, 'h')"
      ],
      "execution_count": 0,
      "outputs": []
    },
    {
      "cell_type": "code",
      "metadata": {
        "colab_type": "code",
        "id": "NKfplMg1iofm",
        "outputId": "76cf6d5a-8070-41cf-ff52-902ded3d4deb",
        "colab": {
          "base_uri": "https://localhost:8080/",
          "height": 343
        }
      },
      "source": [
        "invoice_13_15.head()"
      ],
      "execution_count": 47,
      "outputs": [
        {
          "output_type": "execute_result",
          "data": {
            "text/html": [
              "<div>\n",
              "<style scoped>\n",
              "    .dataframe tbody tr th:only-of-type {\n",
              "        vertical-align: middle;\n",
              "    }\n",
              "\n",
              "    .dataframe tbody tr th {\n",
              "        vertical-align: top;\n",
              "    }\n",
              "\n",
              "    .dataframe thead th {\n",
              "        text-align: right;\n",
              "    }\n",
              "</style>\n",
              "<table border=\"1\" class=\"dataframe\">\n",
              "  <thead>\n",
              "    <tr style=\"text-align: right;\">\n",
              "      <th></th>\n",
              "      <th>Cust Type</th>\n",
              "      <th>Customer No.</th>\n",
              "      <th>Gate Pass Time</th>\n",
              "      <th>Invoice No</th>\n",
              "      <th>Job Card No</th>\n",
              "      <th>KMs Reading</th>\n",
              "      <th>Make</th>\n",
              "      <th>Model</th>\n",
              "      <th>ODN No.</th>\n",
              "      <th>Order Type</th>\n",
              "      <th>Pin code</th>\n",
              "      <th>Plant</th>\n",
              "      <th>Plant Name1</th>\n",
              "      <th>Print Status</th>\n",
              "      <th>Recovrbl Exp</th>\n",
              "      <th>Regn No</th>\n",
              "      <th>Technician Name</th>\n",
              "      <th>Total Value</th>\n",
              "      <th>User ID</th>\n",
              "      <th>Invoice_DateTime</th>\n",
              "      <th>JobCard_DateTime</th>\n",
              "      <th>Service_Time</th>\n",
              "      <th>Clean_CITY</th>\n",
              "      <th>Clean_District</th>\n",
              "      <th>Clean_Location_Area</th>\n",
              "      <th>Year</th>\n",
              "      <th>Service_Time_Hours</th>\n",
              "    </tr>\n",
              "  </thead>\n",
              "  <tbody>\n",
              "    <tr>\n",
              "      <th>0</th>\n",
              "      <td>Retail</td>\n",
              "      <td>67849</td>\n",
              "      <td>00:00:00</td>\n",
              "      <td>7005200002</td>\n",
              "      <td>168303</td>\n",
              "      <td>49317</td>\n",
              "      <td>GENERAL MOTORS</td>\n",
              "      <td>SPARK</td>\n",
              "      <td>7.005200e+09</td>\n",
              "      <td>Paid Service</td>\n",
              "      <td>400601</td>\n",
              "      <td>BC01</td>\n",
              "      <td>THANE</td>\n",
              "      <td>NO</td>\n",
              "      <td>0.0</td>\n",
              "      <td>KA19MA1291</td>\n",
              "      <td>RUPESH</td>\n",
              "      <td>4051.95</td>\n",
              "      <td>BC01FS1</td>\n",
              "      <td>2015-01-02 11:30:36</td>\n",
              "      <td>2014-12-13 14:29:43</td>\n",
              "      <td>19 days 21:00:53</td>\n",
              "      <td>Thane</td>\n",
              "      <td>Maharashtra</td>\n",
              "      <td>Thane Bazar, Thane H.O, Thane R.S.</td>\n",
              "      <td>2015</td>\n",
              "      <td>477.014722</td>\n",
              "    </tr>\n",
              "    <tr>\n",
              "      <th>1</th>\n",
              "      <td>Retail</td>\n",
              "      <td>84419</td>\n",
              "      <td>00:00:00</td>\n",
              "      <td>7005200003</td>\n",
              "      <td>173997</td>\n",
              "      <td>78584</td>\n",
              "      <td>TATA MOTORS</td>\n",
              "      <td>INDICA</td>\n",
              "      <td>7.005200e+09</td>\n",
              "      <td>SMC Value Package</td>\n",
              "      <td>400603</td>\n",
              "      <td>BC01</td>\n",
              "      <td>THANE</td>\n",
              "      <td>NO</td>\n",
              "      <td>0.0</td>\n",
              "      <td>MH43R3046</td>\n",
              "      <td>PRASHANT</td>\n",
              "      <td>1001.29</td>\n",
              "      <td>BC01SA2</td>\n",
              "      <td>2015-01-03 10:07:32</td>\n",
              "      <td>2015-01-02 14:12:18</td>\n",
              "      <td>0 days 19:55:14</td>\n",
              "      <td>Thane</td>\n",
              "      <td>Maharashtra</td>\n",
              "      <td>Thane East, Kopri Colony</td>\n",
              "      <td>2015</td>\n",
              "      <td>19.920556</td>\n",
              "    </tr>\n",
              "    <tr>\n",
              "      <th>2</th>\n",
              "      <td>Retail</td>\n",
              "      <td>81055</td>\n",
              "      <td>00:00:00</td>\n",
              "      <td>7005200004</td>\n",
              "      <td>173889</td>\n",
              "      <td>33985</td>\n",
              "      <td>MARUTI SUZUKI</td>\n",
              "      <td>ZEN</td>\n",
              "      <td>7.005200e+09</td>\n",
              "      <td>Running Repairs</td>\n",
              "      <td>400607</td>\n",
              "      <td>BC01</td>\n",
              "      <td>THANE</td>\n",
              "      <td>NO</td>\n",
              "      <td>0.0</td>\n",
              "      <td>AP09AX0582</td>\n",
              "      <td>IMRAN</td>\n",
              "      <td>233.14</td>\n",
              "      <td>BC01SA2</td>\n",
              "      <td>2015-01-03 11:12:57</td>\n",
              "      <td>2015-01-02 11:40:44</td>\n",
              "      <td>0 days 23:32:13</td>\n",
              "      <td>Thane</td>\n",
              "      <td>Maharashtra</td>\n",
              "      <td>Chitalsar Manpada, Sandozbaugh</td>\n",
              "      <td>2015</td>\n",
              "      <td>23.536944</td>\n",
              "    </tr>\n",
              "    <tr>\n",
              "      <th>3</th>\n",
              "      <td>Retail</td>\n",
              "      <td>84419</td>\n",
              "      <td>00:00:00</td>\n",
              "      <td>7005200005</td>\n",
              "      <td>174158</td>\n",
              "      <td>78584</td>\n",
              "      <td>TATA MOTORS</td>\n",
              "      <td>INDICA</td>\n",
              "      <td>7.005200e+09</td>\n",
              "      <td>SMC Redemption</td>\n",
              "      <td>400603</td>\n",
              "      <td>BC01</td>\n",
              "      <td>THANE</td>\n",
              "      <td>NO</td>\n",
              "      <td>0.0</td>\n",
              "      <td>MH43R3046</td>\n",
              "      <td>PRASHANT</td>\n",
              "      <td>0.00</td>\n",
              "      <td>BC01SA2</td>\n",
              "      <td>2015-01-03 11:40:44</td>\n",
              "      <td>2015-01-03 10:12:32</td>\n",
              "      <td>0 days 01:28:12</td>\n",
              "      <td>Thane</td>\n",
              "      <td>Maharashtra</td>\n",
              "      <td>Thane East, Kopri Colony</td>\n",
              "      <td>2015</td>\n",
              "      <td>1.470000</td>\n",
              "    </tr>\n",
              "    <tr>\n",
              "      <th>4</th>\n",
              "      <td>Retail</td>\n",
              "      <td>18980</td>\n",
              "      <td>00:00:00</td>\n",
              "      <td>7005200006</td>\n",
              "      <td>173860</td>\n",
              "      <td>50057</td>\n",
              "      <td>HYUNDAI</td>\n",
              "      <td>SANTRO XING</td>\n",
              "      <td>7.005200e+09</td>\n",
              "      <td>Paid Service</td>\n",
              "      <td>400603</td>\n",
              "      <td>BC01</td>\n",
              "      <td>THANE</td>\n",
              "      <td>NO</td>\n",
              "      <td>0.0</td>\n",
              "      <td>MH04CD9768</td>\n",
              "      <td>DAYANAND</td>\n",
              "      <td>2747.12</td>\n",
              "      <td>BC01SA2</td>\n",
              "      <td>2015-01-03 12:07:17</td>\n",
              "      <td>2015-01-02 10:45:42</td>\n",
              "      <td>1 days 01:21:35</td>\n",
              "      <td>Thane</td>\n",
              "      <td>Maharashtra</td>\n",
              "      <td>Thane East, Kopri Colony</td>\n",
              "      <td>2015</td>\n",
              "      <td>25.359722</td>\n",
              "    </tr>\n",
              "  </tbody>\n",
              "</table>\n",
              "</div>"
            ],
            "text/plain": [
              "  Cust Type Customer No. Gate Pass Time  Invoice No  Job Card No  KMs Reading  \\\n",
              "0    Retail        67849       00:00:00  7005200002       168303        49317   \n",
              "1    Retail        84419       00:00:00  7005200003       173997        78584   \n",
              "2    Retail        81055       00:00:00  7005200004       173889        33985   \n",
              "3    Retail        84419       00:00:00  7005200005       174158        78584   \n",
              "4    Retail        18980       00:00:00  7005200006       173860        50057   \n",
              "\n",
              "             Make        Model       ODN No.         Order Type  Pin code  \\\n",
              "0  GENERAL MOTORS        SPARK  7.005200e+09       Paid Service    400601   \n",
              "1     TATA MOTORS       INDICA  7.005200e+09  SMC Value Package    400603   \n",
              "2   MARUTI SUZUKI          ZEN  7.005200e+09    Running Repairs    400607   \n",
              "3     TATA MOTORS       INDICA  7.005200e+09     SMC Redemption    400603   \n",
              "4         HYUNDAI  SANTRO XING  7.005200e+09       Paid Service    400603   \n",
              "\n",
              "  Plant Plant Name1 Print Status  Recovrbl Exp     Regn No Technician Name  \\\n",
              "0  BC01       THANE           NO           0.0  KA19MA1291          RUPESH   \n",
              "1  BC01       THANE           NO           0.0   MH43R3046        PRASHANT   \n",
              "2  BC01       THANE           NO           0.0  AP09AX0582           IMRAN   \n",
              "3  BC01       THANE           NO           0.0   MH43R3046        PRASHANT   \n",
              "4  BC01       THANE           NO           0.0  MH04CD9768        DAYANAND   \n",
              "\n",
              "   Total Value  User ID    Invoice_DateTime    JobCard_DateTime  \\\n",
              "0      4051.95  BC01FS1 2015-01-02 11:30:36 2014-12-13 14:29:43   \n",
              "1      1001.29  BC01SA2 2015-01-03 10:07:32 2015-01-02 14:12:18   \n",
              "2       233.14  BC01SA2 2015-01-03 11:12:57 2015-01-02 11:40:44   \n",
              "3         0.00  BC01SA2 2015-01-03 11:40:44 2015-01-03 10:12:32   \n",
              "4      2747.12  BC01SA2 2015-01-03 12:07:17 2015-01-02 10:45:42   \n",
              "\n",
              "      Service_Time Clean_CITY Clean_District  \\\n",
              "0 19 days 21:00:53      Thane    Maharashtra   \n",
              "1  0 days 19:55:14      Thane    Maharashtra   \n",
              "2  0 days 23:32:13      Thane    Maharashtra   \n",
              "3  0 days 01:28:12      Thane    Maharashtra   \n",
              "4  1 days 01:21:35      Thane    Maharashtra   \n",
              "\n",
              "                  Clean_Location_Area  Year  Service_Time_Hours  \n",
              "0  Thane Bazar, Thane H.O, Thane R.S.  2015          477.014722  \n",
              "1            Thane East, Kopri Colony  2015           19.920556  \n",
              "2      Chitalsar Manpada, Sandozbaugh  2015           23.536944  \n",
              "3            Thane East, Kopri Colony  2015            1.470000  \n",
              "4            Thane East, Kopri Colony  2015           25.359722  "
            ]
          },
          "metadata": {
            "tags": []
          },
          "execution_count": 47
        }
      ]
    },
    {
      "cell_type": "markdown",
      "metadata": {
        "id": "OvWigGsp3W5k",
        "colab_type": "text"
      },
      "source": [
        "We have calculated the Lifetime Value of a customer based on the Running Repairs of cutomers by total number of invoices generated multiplied by the mean of the total values spent at each service.\n",
        "Also calculated the average service time taken each visit."
      ]
    },
    {
      "cell_type": "code",
      "metadata": {
        "colab_type": "code",
        "id": "r_wYXYEpiofw",
        "outputId": "6f264b66-129b-4636-9f2f-9d9bb94dd27d",
        "colab": {
          "base_uri": "https://localhost:8080/",
          "height": 202
        }
      },
      "source": [
        "invoice_running=invoice_13_15[invoice_13_15[\"Order Type\"]==\"Running Repairs\"]\n",
        "invoice_running.head()\n",
        "\n",
        "customer_freq=invoice_running.groupby([\"Make\",\"Model\",\"Clean_Location_Area\",\"Customer No.\"]).agg({\"Invoice No\":'count',\"Total Value\":'mean',\"Service_Time_Hours\":'mean'})\n",
        "customer_freq=customer_freq.reset_index()\n",
        "customer_freq.head()\n",
        "ltv_make_model_r=customer_freq.copy()\n",
        "\n",
        "ltv_make_model_r[\"LTV (for Running Repairs)\"]=ltv_make_model_r[\"Invoice No\"]*ltv_make_model_r[\"Total Value\"]\n",
        "ltv_make_model_r.head()"
      ],
      "execution_count": 48,
      "outputs": [
        {
          "output_type": "execute_result",
          "data": {
            "text/html": [
              "<div>\n",
              "<style scoped>\n",
              "    .dataframe tbody tr th:only-of-type {\n",
              "        vertical-align: middle;\n",
              "    }\n",
              "\n",
              "    .dataframe tbody tr th {\n",
              "        vertical-align: top;\n",
              "    }\n",
              "\n",
              "    .dataframe thead th {\n",
              "        text-align: right;\n",
              "    }\n",
              "</style>\n",
              "<table border=\"1\" class=\"dataframe\">\n",
              "  <thead>\n",
              "    <tr style=\"text-align: right;\">\n",
              "      <th></th>\n",
              "      <th>Make</th>\n",
              "      <th>Model</th>\n",
              "      <th>Clean_Location_Area</th>\n",
              "      <th>Customer No.</th>\n",
              "      <th>Invoice No</th>\n",
              "      <th>Total Value</th>\n",
              "      <th>Service_Time_Hours</th>\n",
              "      <th>LTV (for Running Repairs)</th>\n",
              "    </tr>\n",
              "  </thead>\n",
              "  <tbody>\n",
              "    <tr>\n",
              "      <th>0</th>\n",
              "      <td>AUDI</td>\n",
              "      <td>A4</td>\n",
              "      <td>Anandibazar, Ahmednagar City, Ahmednagar H.O, ...</td>\n",
              "      <td>118262</td>\n",
              "      <td>1</td>\n",
              "      <td>1754.44</td>\n",
              "      <td>0.268056</td>\n",
              "      <td>1754.44</td>\n",
              "    </tr>\n",
              "    <tr>\n",
              "      <th>1</th>\n",
              "      <td>AUDI</td>\n",
              "      <td>A4</td>\n",
              "      <td>Block 5,Neyveli, Block 26,Neyveli, Block 18,Ne...</td>\n",
              "      <td>121383</td>\n",
              "      <td>1</td>\n",
              "      <td>900.00</td>\n",
              "      <td>17.531111</td>\n",
              "      <td>900.00</td>\n",
              "    </tr>\n",
              "    <tr>\n",
              "      <th>2</th>\n",
              "      <td>AUDI</td>\n",
              "      <td>A4</td>\n",
              "      <td>Chander Nagar</td>\n",
              "      <td>58055</td>\n",
              "      <td>1</td>\n",
              "      <td>5700.48</td>\n",
              "      <td>26.655278</td>\n",
              "      <td>5700.48</td>\n",
              "    </tr>\n",
              "    <tr>\n",
              "      <th>3</th>\n",
              "      <td>AUDI</td>\n",
              "      <td>A4</td>\n",
              "      <td>Dapodi, Dapodi Bazar</td>\n",
              "      <td>11604</td>\n",
              "      <td>1</td>\n",
              "      <td>299.04</td>\n",
              "      <td>1.235278</td>\n",
              "      <td>299.04</td>\n",
              "    </tr>\n",
              "    <tr>\n",
              "      <th>4</th>\n",
              "      <td>AUDI</td>\n",
              "      <td>A4</td>\n",
              "      <td>Electronics City</td>\n",
              "      <td>113926</td>\n",
              "      <td>1</td>\n",
              "      <td>21834.92</td>\n",
              "      <td>28.306389</td>\n",
              "      <td>21834.92</td>\n",
              "    </tr>\n",
              "  </tbody>\n",
              "</table>\n",
              "</div>"
            ],
            "text/plain": [
              "   Make Model                                Clean_Location_Area Customer No.  \\\n",
              "0  AUDI    A4  Anandibazar, Ahmednagar City, Ahmednagar H.O, ...       118262   \n",
              "1  AUDI    A4  Block 5,Neyveli, Block 26,Neyveli, Block 18,Ne...       121383   \n",
              "2  AUDI    A4                                      Chander Nagar        58055   \n",
              "3  AUDI    A4                               Dapodi, Dapodi Bazar        11604   \n",
              "4  AUDI    A4                                   Electronics City       113926   \n",
              "\n",
              "   Invoice No  Total Value  Service_Time_Hours  LTV (for Running Repairs)  \n",
              "0           1      1754.44            0.268056                    1754.44  \n",
              "1           1       900.00           17.531111                     900.00  \n",
              "2           1      5700.48           26.655278                    5700.48  \n",
              "3           1       299.04            1.235278                     299.04  \n",
              "4           1     21834.92           28.306389                   21834.92  "
            ]
          },
          "metadata": {
            "tags": []
          },
          "execution_count": 48
        }
      ]
    },
    {
      "cell_type": "code",
      "metadata": {
        "id": "qc8TXYRkzugF",
        "colab_type": "code",
        "outputId": "d8ffba33-6706-423c-8ee6-ccc2fa2edc19",
        "colab": {
          "base_uri": "https://localhost:8080/",
          "height": 35
        }
      },
      "source": [
        "ltv_make_model_r.shape"
      ],
      "execution_count": 49,
      "outputs": [
        {
          "output_type": "execute_result",
          "data": {
            "text/plain": [
              "(87496, 8)"
            ]
          },
          "metadata": {
            "tags": []
          },
          "execution_count": 49
        }
      ]
    },
    {
      "cell_type": "code",
      "metadata": {
        "colab_type": "code",
        "id": "qz9dqYk2iof3",
        "outputId": "23361025-cab2-406b-9a32-4810753d0dff",
        "colab": {
          "base_uri": "https://localhost:8080/",
          "height": 173
        }
      },
      "source": [
        "ltv_make_model_r[\"LTV (for Running Repairs)\"].describe()"
      ],
      "execution_count": 50,
      "outputs": [
        {
          "output_type": "execute_result",
          "data": {
            "text/plain": [
              "count     87496.000000\n",
              "mean       4299.899055\n",
              "std       10325.711523\n",
              "min           0.000000\n",
              "25%         315.060000\n",
              "50%        1083.690000\n",
              "75%        4209.352500\n",
              "max      732727.590000\n",
              "Name: LTV (for Running Repairs), dtype: float64"
            ]
          },
          "metadata": {
            "tags": []
          },
          "execution_count": 50
        }
      ]
    },
    {
      "cell_type": "code",
      "metadata": {
        "colab_type": "code",
        "id": "5ZS8c2APiogF",
        "outputId": "38275142-c0aa-433f-bc0d-9f36b8ab27ab",
        "colab": {
          "base_uri": "https://localhost:8080/",
          "height": 69
        }
      },
      "source": [
        "print(ltv_make_model_r[ltv_make_model_r[\"LTV (for Running Repairs)\"]<=1083.690000].shape)\n",
        "print(ltv_make_model_r[(ltv_make_model_r[\"LTV (for Running Repairs)\"]>1083.690000)&(ltv_make_model_r[\"LTV (for Running Repairs)\"]<=4299.899055)].shape)\n",
        "print(ltv_make_model_r[ltv_make_model_r[\"LTV (for Running Repairs)\"]>4299.899055].shape)"
      ],
      "execution_count": 51,
      "outputs": [
        {
          "output_type": "stream",
          "text": [
            "(43748, 8)\n",
            "(22199, 8)\n",
            "(21549, 8)\n"
          ],
          "name": "stdout"
        }
      ]
    },
    {
      "cell_type": "code",
      "metadata": {
        "colab_type": "code",
        "id": "Car18mzNiogL",
        "colab": {}
      },
      "source": [
        "bins=[-1,1083.690000,4299.899055,732727.60]\n",
        "labels=[\"Low\",\"Medium\",\"High\"]\n",
        "ltv_make_model_r[\"LTV Binned\"]=pd.cut(ltv_make_model_r[\"LTV (for Running Repairs)\"], bins=bins, labels=labels)"
      ],
      "execution_count": 0,
      "outputs": []
    },
    {
      "cell_type": "code",
      "metadata": {
        "colab_type": "code",
        "id": "znlkYh20mZwv",
        "outputId": "24914bb8-d132-42b8-aab7-28e9a3b4cf36",
        "colab": {
          "base_uri": "https://localhost:8080/",
          "height": 87
        }
      },
      "source": [
        "ltv_make_model_r[\"LTV Binned\"].value_counts()"
      ],
      "execution_count": 53,
      "outputs": [
        {
          "output_type": "execute_result",
          "data": {
            "text/plain": [
              "Low       43748\n",
              "Medium    22199\n",
              "High      21549\n",
              "Name: LTV Binned, dtype: int64"
            ]
          },
          "metadata": {
            "tags": []
          },
          "execution_count": 53
        }
      ]
    },
    {
      "cell_type": "code",
      "metadata": {
        "colab_type": "code",
        "id": "Ac6Gdi7ZiogQ",
        "colab": {}
      },
      "source": [
        "ltv_make_model_r.dropna(inplace=True)"
      ],
      "execution_count": 0,
      "outputs": []
    },
    {
      "cell_type": "code",
      "metadata": {
        "colab_type": "code",
        "id": "GzvhflCyiogV",
        "colab": {}
      },
      "source": [
        "temp_ltv_make_model_r=ltv_make_model_r.copy()"
      ],
      "execution_count": 0,
      "outputs": []
    },
    {
      "cell_type": "code",
      "metadata": {
        "colab_type": "code",
        "id": "VGbc3tR5ioga",
        "colab": {}
      },
      "source": [
        "le=LabelEncoder()\n",
        "temp_ltv_make_model_r[\"Make\"]=le.fit_transform(temp_ltv_make_model_r[\"Make\"])\n",
        "temp_ltv_make_model_r[\"Model\"]=le.fit_transform(temp_ltv_make_model_r[\"Model\"])\n",
        "temp_ltv_make_model_r[\"LTV Binned\"]=le.fit_transform(temp_ltv_make_model_r[\"LTV Binned\"])\n",
        "temp_ltv_make_model_r[\"Clean_Location_Area\"]=le.fit_transform(temp_ltv_make_model_r[\"Clean_Location_Area\"])"
      ],
      "execution_count": 0,
      "outputs": []
    },
    {
      "cell_type": "code",
      "metadata": {
        "colab_type": "code",
        "id": "wxuoOpK6iogg",
        "outputId": "72d70d00-48b8-4fe9-a819-549eaad00a40",
        "colab": {
          "base_uri": "https://localhost:8080/",
          "height": 202
        }
      },
      "source": [
        "temp_ltv_make_model_r.head()"
      ],
      "execution_count": 57,
      "outputs": [
        {
          "output_type": "execute_result",
          "data": {
            "text/html": [
              "<div>\n",
              "<style scoped>\n",
              "    .dataframe tbody tr th:only-of-type {\n",
              "        vertical-align: middle;\n",
              "    }\n",
              "\n",
              "    .dataframe tbody tr th {\n",
              "        vertical-align: top;\n",
              "    }\n",
              "\n",
              "    .dataframe thead th {\n",
              "        text-align: right;\n",
              "    }\n",
              "</style>\n",
              "<table border=\"1\" class=\"dataframe\">\n",
              "  <thead>\n",
              "    <tr style=\"text-align: right;\">\n",
              "      <th></th>\n",
              "      <th>Make</th>\n",
              "      <th>Model</th>\n",
              "      <th>Clean_Location_Area</th>\n",
              "      <th>Customer No.</th>\n",
              "      <th>Invoice No</th>\n",
              "      <th>Total Value</th>\n",
              "      <th>Service_Time_Hours</th>\n",
              "      <th>LTV (for Running Repairs)</th>\n",
              "      <th>LTV Binned</th>\n",
              "    </tr>\n",
              "  </thead>\n",
              "  <tbody>\n",
              "    <tr>\n",
              "      <th>0</th>\n",
              "      <td>0</td>\n",
              "      <td>8</td>\n",
              "      <td>111</td>\n",
              "      <td>118262</td>\n",
              "      <td>1</td>\n",
              "      <td>1754.44</td>\n",
              "      <td>0.268056</td>\n",
              "      <td>1754.44</td>\n",
              "      <td>2</td>\n",
              "    </tr>\n",
              "    <tr>\n",
              "      <th>1</th>\n",
              "      <td>0</td>\n",
              "      <td>8</td>\n",
              "      <td>350</td>\n",
              "      <td>121383</td>\n",
              "      <td>1</td>\n",
              "      <td>900.00</td>\n",
              "      <td>17.531111</td>\n",
              "      <td>900.00</td>\n",
              "      <td>1</td>\n",
              "    </tr>\n",
              "    <tr>\n",
              "      <th>2</th>\n",
              "      <td>0</td>\n",
              "      <td>8</td>\n",
              "      <td>415</td>\n",
              "      <td>58055</td>\n",
              "      <td>1</td>\n",
              "      <td>5700.48</td>\n",
              "      <td>26.655278</td>\n",
              "      <td>5700.48</td>\n",
              "      <td>0</td>\n",
              "    </tr>\n",
              "    <tr>\n",
              "      <th>3</th>\n",
              "      <td>0</td>\n",
              "      <td>8</td>\n",
              "      <td>547</td>\n",
              "      <td>11604</td>\n",
              "      <td>1</td>\n",
              "      <td>299.04</td>\n",
              "      <td>1.235278</td>\n",
              "      <td>299.04</td>\n",
              "      <td>1</td>\n",
              "    </tr>\n",
              "    <tr>\n",
              "      <th>4</th>\n",
              "      <td>0</td>\n",
              "      <td>8</td>\n",
              "      <td>666</td>\n",
              "      <td>113926</td>\n",
              "      <td>1</td>\n",
              "      <td>21834.92</td>\n",
              "      <td>28.306389</td>\n",
              "      <td>21834.92</td>\n",
              "      <td>0</td>\n",
              "    </tr>\n",
              "  </tbody>\n",
              "</table>\n",
              "</div>"
            ],
            "text/plain": [
              "   Make  Model  Clean_Location_Area Customer No.  Invoice No  Total Value  \\\n",
              "0     0      8                  111       118262           1      1754.44   \n",
              "1     0      8                  350       121383           1       900.00   \n",
              "2     0      8                  415        58055           1      5700.48   \n",
              "3     0      8                  547        11604           1       299.04   \n",
              "4     0      8                  666       113926           1     21834.92   \n",
              "\n",
              "   Service_Time_Hours  LTV (for Running Repairs)  LTV Binned  \n",
              "0            0.268056                    1754.44           2  \n",
              "1           17.531111                     900.00           1  \n",
              "2           26.655278                    5700.48           0  \n",
              "3            1.235278                     299.04           1  \n",
              "4           28.306389                   21834.92           0  "
            ]
          },
          "metadata": {
            "tags": []
          },
          "execution_count": 57
        }
      ]
    },
    {
      "cell_type": "code",
      "metadata": {
        "colab_type": "code",
        "id": "y_ldDpBNiogl",
        "colab": {}
      },
      "source": [
        "X=temp_ltv_make_model_r.drop([\"Customer No.\",\"LTV (for Running Repairs)\",\"LTV Binned\",\"Invoice No\"],1)\n",
        "y=temp_ltv_make_model_r[\"LTV Binned\"]"
      ],
      "execution_count": 0,
      "outputs": []
    },
    {
      "cell_type": "code",
      "metadata": {
        "colab_type": "code",
        "id": "3JWk8nIdiu_K",
        "outputId": "a426a527-b03d-4b6b-f8b3-4f62b14c2d91",
        "colab": {
          "base_uri": "https://localhost:8080/",
          "height": 35
        }
      },
      "source": [
        "list(X)"
      ],
      "execution_count": 59,
      "outputs": [
        {
          "output_type": "execute_result",
          "data": {
            "text/plain": [
              "['Make', 'Model', 'Clean_Location_Area', 'Total Value', 'Service_Time_Hours']"
            ]
          },
          "metadata": {
            "tags": []
          },
          "execution_count": 59
        }
      ]
    },
    {
      "cell_type": "code",
      "metadata": {
        "colab_type": "code",
        "id": "nbClf_FSiogp",
        "colab": {}
      },
      "source": [
        "X_train,X_test,y_train,y_test=tts(X,y,test_size=0.3,random_state=0)"
      ],
      "execution_count": 0,
      "outputs": []
    },
    {
      "cell_type": "code",
      "metadata": {
        "colab_type": "code",
        "id": "ZzDZOFv4iogu",
        "colab": {}
      },
      "source": [
        "rfc=RandomForestClassifier(criterion='entropy',random_state=0)"
      ],
      "execution_count": 0,
      "outputs": []
    },
    {
      "cell_type": "code",
      "metadata": {
        "colab_type": "code",
        "id": "B8VCTxDqiog2",
        "outputId": "75603ef6-a679-4fd5-eaf1-26d9715c8a69",
        "colab": {
          "base_uri": "https://localhost:8080/",
          "height": 156
        }
      },
      "source": [
        "rfc.fit(X_train,y_train)"
      ],
      "execution_count": 62,
      "outputs": [
        {
          "output_type": "execute_result",
          "data": {
            "text/plain": [
              "RandomForestClassifier(bootstrap=True, ccp_alpha=0.0, class_weight=None,\n",
              "                       criterion='entropy', max_depth=None, max_features='auto',\n",
              "                       max_leaf_nodes=None, max_samples=None,\n",
              "                       min_impurity_decrease=0.0, min_impurity_split=None,\n",
              "                       min_samples_leaf=1, min_samples_split=2,\n",
              "                       min_weight_fraction_leaf=0.0, n_estimators=100,\n",
              "                       n_jobs=None, oob_score=False, random_state=0, verbose=0,\n",
              "                       warm_start=False)"
            ]
          },
          "metadata": {
            "tags": []
          },
          "execution_count": 62
        }
      ]
    },
    {
      "cell_type": "code",
      "metadata": {
        "colab_type": "code",
        "id": "ZbVkc4A0nG_4",
        "colab": {}
      },
      "source": [
        "y_pred_rfc=rfc.predict(X_test)"
      ],
      "execution_count": 0,
      "outputs": []
    },
    {
      "cell_type": "code",
      "metadata": {
        "colab_type": "code",
        "id": "-05hvDOHnG51",
        "outputId": "438067fe-8166-471f-c59d-e443022774bd",
        "colab": {
          "base_uri": "https://localhost:8080/",
          "height": 191
        }
      },
      "source": [
        "print(classification_report(y_test,y_pred_rfc))"
      ],
      "execution_count": 64,
      "outputs": [
        {
          "output_type": "stream",
          "text": [
            "              precision    recall  f1-score   support\n",
            "\n",
            "           0       0.92      0.81      0.86      6428\n",
            "           1       0.92      0.99      0.95     13144\n",
            "           2       0.80      0.77      0.78      6677\n",
            "\n",
            "    accuracy                           0.89     26249\n",
            "   macro avg       0.88      0.86      0.87     26249\n",
            "weighted avg       0.89      0.89      0.89     26249\n",
            "\n"
          ],
          "name": "stdout"
        }
      ]
    },
    {
      "cell_type": "code",
      "metadata": {
        "colab_type": "code",
        "id": "klFBNiCKtTbg",
        "outputId": "98c29543-7c44-4a98-cd87-db7e570c3e3e",
        "colab": {
          "base_uri": "https://localhost:8080/",
          "height": 35
        }
      },
      "source": [
        "accuracy_score(y_test,y_pred_rfc)"
      ],
      "execution_count": 65,
      "outputs": [
        {
          "output_type": "execute_result",
          "data": {
            "text/plain": [
              "0.8889862470951274"
            ]
          },
          "metadata": {
            "tags": []
          },
          "execution_count": 65
        }
      ]
    },
    {
      "cell_type": "code",
      "metadata": {
        "colab_type": "code",
        "id": "4fwkUghFiohi",
        "outputId": "04d1a4e9-933b-4b17-b2b7-08726580fe3c",
        "colab": {
          "base_uri": "https://localhost:8080/",
          "height": 283
        }
      },
      "source": [
        "plt.barh(list(X),list(rfc.feature_importances_))"
      ],
      "execution_count": 66,
      "outputs": [
        {
          "output_type": "execute_result",
          "data": {
            "text/plain": [
              "<BarContainer object of 5 artists>"
            ]
          },
          "metadata": {
            "tags": []
          },
          "execution_count": 66
        },
        {
          "output_type": "display_data",
          "data": {
            "image/png": "[encoded data removed]",
            "text/plain": [
              "<Figure size 432x288 with 1 Axes>"
            ]
          },
          "metadata": {
            "tags": [],
            "needs_background": "light"
          }
        }
      ]
    },
    {
      "cell_type": "code",
      "metadata": {
        "colab_type": "code",
        "id": "seOC2uftioht",
        "colab": {}
      },
      "source": [
        "score=cross_val_score(estimator=rfc,X=X,y=y,cv=5)"
      ],
      "execution_count": 0,
      "outputs": []
    },
    {
      "cell_type": "code",
      "metadata": {
        "colab_type": "code",
        "id": "s6AWsz8aioiL",
        "outputId": "c9af5415-58d5-47cb-dd99-807ea153094c",
        "colab": {
          "base_uri": "https://localhost:8080/",
          "height": 35
        }
      },
      "source": [
        "score.mean()"
      ],
      "execution_count": 68,
      "outputs": [
        {
          "output_type": "execute_result",
          "data": {
            "text/plain": [
              "0.830940277730156"
            ]
          },
          "metadata": {
            "tags": []
          },
          "execution_count": 68
        }
      ]
    },
    {
      "cell_type": "code",
      "metadata": {
        "colab_type": "code",
        "id": "RytSQeZFioiP",
        "colab": {}
      },
      "source": [
        "xgb=XGBClassifier()"
      ],
      "execution_count": 0,
      "outputs": []
    },
    {
      "cell_type": "code",
      "metadata": {
        "colab_type": "code",
        "id": "obo-rUrE5V6-",
        "outputId": "0c9255f7-f8f9-49ce-a926-9ad0eeae0617",
        "colab": {
          "base_uri": "https://localhost:8080/",
          "height": 139
        }
      },
      "source": [
        "xgb.fit(X_train,y_train)"
      ],
      "execution_count": 70,
      "outputs": [
        {
          "output_type": "execute_result",
          "data": {
            "text/plain": [
              "XGBClassifier(base_score=0.5, booster='gbtree', colsample_bylevel=1,\n",
              "              colsample_bynode=1, colsample_bytree=1, gamma=0,\n",
              "              learning_rate=0.1, max_delta_step=0, max_depth=3,\n",
              "              min_child_weight=1, missing=None, n_estimators=100, n_jobs=1,\n",
              "              nthread=None, objective='multi:softprob', random_state=0,\n",
              "              reg_alpha=0, reg_lambda=1, scale_pos_weight=1, seed=None,\n",
              "              silent=None, subsample=1, verbosity=1)"
            ]
          },
          "metadata": {
            "tags": []
          },
          "execution_count": 70
        }
      ]
    },
    {
      "cell_type": "code",
      "metadata": {
        "colab_type": "code",
        "id": "_brbVeJ05V_O",
        "colab": {}
      },
      "source": [
        "y_pred_xgb=xgb.predict(X_test)"
      ],
      "execution_count": 0,
      "outputs": []
    },
    {
      "cell_type": "code",
      "metadata": {
        "colab_type": "code",
        "id": "QOJEcWDz5V3n",
        "outputId": "e33389f0-664a-4cad-da04-819fd361c5c3",
        "colab": {
          "base_uri": "https://localhost:8080/",
          "height": 35
        }
      },
      "source": [
        "accuracy_score(y_test,y_pred_xgb)"
      ],
      "execution_count": 72,
      "outputs": [
        {
          "output_type": "execute_result",
          "data": {
            "text/plain": [
              "0.8921863690045335"
            ]
          },
          "metadata": {
            "tags": []
          },
          "execution_count": 72
        }
      ]
    },
    {
      "cell_type": "code",
      "metadata": {
        "colab_type": "code",
        "id": "xOR8IOTI5lGU",
        "outputId": "2eed875d-d8a7-4aad-a966-ae7c44ced7e2",
        "colab": {
          "base_uri": "https://localhost:8080/",
          "height": 191
        }
      },
      "source": [
        "print(classification_report(y_test,y_pred_xgb))"
      ],
      "execution_count": 73,
      "outputs": [
        {
          "output_type": "stream",
          "text": [
            "              precision    recall  f1-score   support\n",
            "\n",
            "           0       0.98      0.77      0.86      6428\n",
            "           1       0.91      1.00      0.95     13144\n",
            "           2       0.78      0.81      0.80      6677\n",
            "\n",
            "    accuracy                           0.89     26249\n",
            "   macro avg       0.89      0.86      0.87     26249\n",
            "weighted avg       0.90      0.89      0.89     26249\n",
            "\n"
          ],
          "name": "stdout"
        }
      ]
    },
    {
      "cell_type": "code",
      "metadata": {
        "colab_type": "code",
        "id": "VAiFbWLGjJDZ",
        "colab": {}
      },
      "source": [
        "scores_xgb=cross_val_score(estimator=xgb,X=X,y=y,cv=5)"
      ],
      "execution_count": 0,
      "outputs": []
    },
    {
      "cell_type": "code",
      "metadata": {
        "colab_type": "code",
        "id": "MaYPl3D4ioiz",
        "outputId": "ad6d61ee-e23e-4edf-ebb4-bfacba29553f",
        "colab": {
          "base_uri": "https://localhost:8080/",
          "height": 35
        }
      },
      "source": [
        "scores_xgb.mean()"
      ],
      "execution_count": 75,
      "outputs": [
        {
          "output_type": "execute_result",
          "data": {
            "text/plain": [
              "0.8448266653604696"
            ]
          },
          "metadata": {
            "tags": []
          },
          "execution_count": 75
        }
      ]
    },
    {
      "cell_type": "markdown",
      "metadata": {
        "id": "AFcWSclMoGmU",
        "colab_type": "text"
      },
      "source": [
        "CLUSTERING"
      ]
    },
    {
      "cell_type": "code",
      "metadata": {
        "id": "WjLoD3m8oNkp",
        "colab_type": "code",
        "colab": {
          "base_uri": "https://localhost:8080/",
          "height": 151
        },
        "outputId": "76576541-122f-4eb9-c64f-2fe4ce18612e"
      },
      "source": [
        "invoice.head(1)"
      ],
      "execution_count": 78,
      "outputs": [
        {
          "output_type": "execute_result",
          "data": {
            "text/html": [
              "<div>\n",
              "<style scoped>\n",
              "    .dataframe tbody tr th:only-of-type {\n",
              "        vertical-align: middle;\n",
              "    }\n",
              "\n",
              "    .dataframe tbody tr th {\n",
              "        vertical-align: top;\n",
              "    }\n",
              "\n",
              "    .dataframe thead th {\n",
              "        text-align: right;\n",
              "    }\n",
              "</style>\n",
              "<table border=\"1\" class=\"dataframe\">\n",
              "  <thead>\n",
              "    <tr style=\"text-align: right;\">\n",
              "      <th></th>\n",
              "      <th>Cust Type</th>\n",
              "      <th>Customer No.</th>\n",
              "      <th>Gate Pass Time</th>\n",
              "      <th>Invoice No</th>\n",
              "      <th>Job Card No</th>\n",
              "      <th>KMs Reading</th>\n",
              "      <th>Make</th>\n",
              "      <th>Model</th>\n",
              "      <th>ODN No.</th>\n",
              "      <th>Order Type</th>\n",
              "      <th>Pin code</th>\n",
              "      <th>Plant</th>\n",
              "      <th>Plant Name1</th>\n",
              "      <th>Print Status</th>\n",
              "      <th>Recovrbl Exp</th>\n",
              "      <th>Regn No</th>\n",
              "      <th>Technician Name</th>\n",
              "      <th>Total Value</th>\n",
              "      <th>User ID</th>\n",
              "      <th>Invoice_DateTime</th>\n",
              "      <th>JobCard_DateTime</th>\n",
              "      <th>Service_Time</th>\n",
              "      <th>Clean_CITY</th>\n",
              "      <th>Clean_District</th>\n",
              "      <th>Clean_Location_Area</th>\n",
              "      <th>Year</th>\n",
              "    </tr>\n",
              "  </thead>\n",
              "  <tbody>\n",
              "    <tr>\n",
              "      <th>0</th>\n",
              "      <td>Retail</td>\n",
              "      <td>67849</td>\n",
              "      <td>00:00:00</td>\n",
              "      <td>7005200002</td>\n",
              "      <td>168303</td>\n",
              "      <td>49317</td>\n",
              "      <td>GENERAL MOTORS</td>\n",
              "      <td>SPARK</td>\n",
              "      <td>7.005200e+09</td>\n",
              "      <td>Paid Service</td>\n",
              "      <td>400601</td>\n",
              "      <td>BC01</td>\n",
              "      <td>THANE</td>\n",
              "      <td>NO</td>\n",
              "      <td>0.0</td>\n",
              "      <td>KA19MA1291</td>\n",
              "      <td>RUPESH</td>\n",
              "      <td>4051.95</td>\n",
              "      <td>BC01FS1</td>\n",
              "      <td>2015-01-02 11:30:36</td>\n",
              "      <td>2014-12-13 14:29:43</td>\n",
              "      <td>19 days 21:00:53</td>\n",
              "      <td>Thane</td>\n",
              "      <td>Maharashtra</td>\n",
              "      <td>Thane Bazar, Thane H.O, Thane R.S.</td>\n",
              "      <td>2015</td>\n",
              "    </tr>\n",
              "  </tbody>\n",
              "</table>\n",
              "</div>"
            ],
            "text/plain": [
              "  Cust Type Customer No. Gate Pass Time  Invoice No  Job Card No  KMs Reading  \\\n",
              "0    Retail        67849       00:00:00  7005200002       168303        49317   \n",
              "\n",
              "             Make  Model       ODN No.    Order Type  Pin code Plant  \\\n",
              "0  GENERAL MOTORS  SPARK  7.005200e+09  Paid Service    400601  BC01   \n",
              "\n",
              "  Plant Name1 Print Status  Recovrbl Exp     Regn No Technician Name  \\\n",
              "0       THANE           NO           0.0  KA19MA1291          RUPESH   \n",
              "\n",
              "   Total Value  User ID    Invoice_DateTime    JobCard_DateTime  \\\n",
              "0      4051.95  BC01FS1 2015-01-02 11:30:36 2014-12-13 14:29:43   \n",
              "\n",
              "      Service_Time Clean_CITY Clean_District  \\\n",
              "0 19 days 21:00:53      Thane    Maharashtra   \n",
              "\n",
              "                  Clean_Location_Area  Year  \n",
              "0  Thane Bazar, Thane H.O, Thane R.S.  2015  "
            ]
          },
          "metadata": {
            "tags": []
          },
          "execution_count": 78
        }
      ]
    },
    {
      "cell_type": "code",
      "metadata": {
        "id": "cDpEzqQVoqZJ",
        "colab_type": "code",
        "colab": {}
      },
      "source": [
        "df=invoice_13_15.copy()"
      ],
      "execution_count": 0,
      "outputs": []
    },
    {
      "cell_type": "code",
      "metadata": {
        "id": "EXifNeuloknu",
        "colab_type": "code",
        "colab": {
          "base_uri": "https://localhost:8080/",
          "height": 151
        },
        "outputId": "b90f1f71-3ca8-413f-f991-80d7e2dfe606"
      },
      "source": [
        "df.head(1)"
      ],
      "execution_count": 86,
      "outputs": [
        {
          "output_type": "execute_result",
          "data": {
            "text/html": [
              "<div>\n",
              "<style scoped>\n",
              "    .dataframe tbody tr th:only-of-type {\n",
              "        vertical-align: middle;\n",
              "    }\n",
              "\n",
              "    .dataframe tbody tr th {\n",
              "        vertical-align: top;\n",
              "    }\n",
              "\n",
              "    .dataframe thead th {\n",
              "        text-align: right;\n",
              "    }\n",
              "</style>\n",
              "<table border=\"1\" class=\"dataframe\">\n",
              "  <thead>\n",
              "    <tr style=\"text-align: right;\">\n",
              "      <th></th>\n",
              "      <th>Cust Type</th>\n",
              "      <th>Customer No.</th>\n",
              "      <th>Gate Pass Time</th>\n",
              "      <th>Invoice No</th>\n",
              "      <th>Job Card No</th>\n",
              "      <th>KMs Reading</th>\n",
              "      <th>Make</th>\n",
              "      <th>Model</th>\n",
              "      <th>ODN No.</th>\n",
              "      <th>Order Type</th>\n",
              "      <th>Pin code</th>\n",
              "      <th>Plant</th>\n",
              "      <th>Plant Name1</th>\n",
              "      <th>Print Status</th>\n",
              "      <th>Recovrbl Exp</th>\n",
              "      <th>Regn No</th>\n",
              "      <th>Technician Name</th>\n",
              "      <th>Total Value</th>\n",
              "      <th>User ID</th>\n",
              "      <th>Invoice_DateTime</th>\n",
              "      <th>JobCard_DateTime</th>\n",
              "      <th>Service_Time</th>\n",
              "      <th>Clean_CITY</th>\n",
              "      <th>Clean_District</th>\n",
              "      <th>Clean_Location_Area</th>\n",
              "      <th>Year</th>\n",
              "      <th>Service_Time_Hours</th>\n",
              "    </tr>\n",
              "  </thead>\n",
              "  <tbody>\n",
              "    <tr>\n",
              "      <th>0</th>\n",
              "      <td>Retail</td>\n",
              "      <td>67849</td>\n",
              "      <td>00:00:00</td>\n",
              "      <td>7005200002</td>\n",
              "      <td>168303</td>\n",
              "      <td>49317</td>\n",
              "      <td>GENERAL MOTORS</td>\n",
              "      <td>SPARK</td>\n",
              "      <td>7.005200e+09</td>\n",
              "      <td>Paid Service</td>\n",
              "      <td>400601</td>\n",
              "      <td>BC01</td>\n",
              "      <td>THANE</td>\n",
              "      <td>NO</td>\n",
              "      <td>0.0</td>\n",
              "      <td>KA19MA1291</td>\n",
              "      <td>RUPESH</td>\n",
              "      <td>4051.95</td>\n",
              "      <td>BC01FS1</td>\n",
              "      <td>2015-01-02 11:30:36</td>\n",
              "      <td>2014-12-13 14:29:43</td>\n",
              "      <td>19 days 21:00:53</td>\n",
              "      <td>Thane</td>\n",
              "      <td>Maharashtra</td>\n",
              "      <td>Thane Bazar, Thane H.O, Thane R.S.</td>\n",
              "      <td>2015</td>\n",
              "      <td>477.014722</td>\n",
              "    </tr>\n",
              "  </tbody>\n",
              "</table>\n",
              "</div>"
            ],
            "text/plain": [
              "  Cust Type Customer No. Gate Pass Time  Invoice No  Job Card No  KMs Reading  \\\n",
              "0    Retail        67849       00:00:00  7005200002       168303        49317   \n",
              "\n",
              "             Make  Model       ODN No.    Order Type  Pin code Plant  \\\n",
              "0  GENERAL MOTORS  SPARK  7.005200e+09  Paid Service    400601  BC01   \n",
              "\n",
              "  Plant Name1 Print Status  Recovrbl Exp     Regn No Technician Name  \\\n",
              "0       THANE           NO           0.0  KA19MA1291          RUPESH   \n",
              "\n",
              "   Total Value  User ID    Invoice_DateTime    JobCard_DateTime  \\\n",
              "0      4051.95  BC01FS1 2015-01-02 11:30:36 2014-12-13 14:29:43   \n",
              "\n",
              "      Service_Time Clean_CITY Clean_District  \\\n",
              "0 19 days 21:00:53      Thane    Maharashtra   \n",
              "\n",
              "                  Clean_Location_Area  Year  Service_Time_Hours  \n",
              "0  Thane Bazar, Thane H.O, Thane R.S.  2015          477.014722  "
            ]
          },
          "metadata": {
            "tags": []
          },
          "execution_count": 86
        }
      ]
    },
    {
      "cell_type": "code",
      "metadata": {
        "id": "NeZjh2xezuhz",
        "colab_type": "code",
        "colab": {}
      },
      "source": [
        "#### Selecting columns required for clustering\n",
        "\n",
        "cluster_df = df[['Cust Type','Customer No.','Make','Model','Order Type','Clean_CITY','Clean_Location_Area','Invoice No','Service_Time_Hours','Total Value']]"
      ],
      "execution_count": 0,
      "outputs": []
    },
    {
      "cell_type": "code",
      "metadata": {
        "id": "MiFJJauHoKhw",
        "colab_type": "code",
        "colab": {
          "base_uri": "https://localhost:8080/",
          "height": 162
        },
        "outputId": "045ae04e-fae7-43c9-c38d-59201740c253"
      },
      "source": [
        "cluster_df.head(2)"
      ],
      "execution_count": 88,
      "outputs": [
        {
          "output_type": "execute_result",
          "data": {
            "text/html": [
              "<div>\n",
              "<style scoped>\n",
              "    .dataframe tbody tr th:only-of-type {\n",
              "        vertical-align: middle;\n",
              "    }\n",
              "\n",
              "    .dataframe tbody tr th {\n",
              "        vertical-align: top;\n",
              "    }\n",
              "\n",
              "    .dataframe thead th {\n",
              "        text-align: right;\n",
              "    }\n",
              "</style>\n",
              "<table border=\"1\" class=\"dataframe\">\n",
              "  <thead>\n",
              "    <tr style=\"text-align: right;\">\n",
              "      <th></th>\n",
              "      <th>Cust Type</th>\n",
              "      <th>Customer No.</th>\n",
              "      <th>Make</th>\n",
              "      <th>Model</th>\n",
              "      <th>Order Type</th>\n",
              "      <th>Clean_CITY</th>\n",
              "      <th>Clean_Location_Area</th>\n",
              "      <th>Invoice No</th>\n",
              "      <th>Service_Time_Hours</th>\n",
              "      <th>Total Value</th>\n",
              "    </tr>\n",
              "  </thead>\n",
              "  <tbody>\n",
              "    <tr>\n",
              "      <th>0</th>\n",
              "      <td>Retail</td>\n",
              "      <td>67849</td>\n",
              "      <td>GENERAL MOTORS</td>\n",
              "      <td>SPARK</td>\n",
              "      <td>Paid Service</td>\n",
              "      <td>Thane</td>\n",
              "      <td>Thane Bazar, Thane H.O, Thane R.S.</td>\n",
              "      <td>7005200002</td>\n",
              "      <td>477.014722</td>\n",
              "      <td>4051.95</td>\n",
              "    </tr>\n",
              "    <tr>\n",
              "      <th>1</th>\n",
              "      <td>Retail</td>\n",
              "      <td>84419</td>\n",
              "      <td>TATA MOTORS</td>\n",
              "      <td>INDICA</td>\n",
              "      <td>SMC Value Package</td>\n",
              "      <td>Thane</td>\n",
              "      <td>Thane East, Kopri Colony</td>\n",
              "      <td>7005200003</td>\n",
              "      <td>19.920556</td>\n",
              "      <td>1001.29</td>\n",
              "    </tr>\n",
              "  </tbody>\n",
              "</table>\n",
              "</div>"
            ],
            "text/plain": [
              "  Cust Type Customer No.            Make   Model         Order Type  \\\n",
              "0    Retail        67849  GENERAL MOTORS   SPARK       Paid Service   \n",
              "1    Retail        84419     TATA MOTORS  INDICA  SMC Value Package   \n",
              "\n",
              "  Clean_CITY                 Clean_Location_Area  Invoice No  \\\n",
              "0      Thane  Thane Bazar, Thane H.O, Thane R.S.  7005200002   \n",
              "1      Thane            Thane East, Kopri Colony  7005200003   \n",
              "\n",
              "   Service_Time_Hours  Total Value  \n",
              "0          477.014722      4051.95  \n",
              "1           19.920556      1001.29  "
            ]
          },
          "metadata": {
            "tags": []
          },
          "execution_count": 88
        }
      ]
    },
    {
      "cell_type": "code",
      "metadata": {
        "id": "KkWN3NJDoamw",
        "colab_type": "code",
        "colab": {
          "base_uri": "https://localhost:8080/",
          "height": 208
        },
        "outputId": "9db381e2-2202-4fa5-e1cd-9cdb750059e7"
      },
      "source": [
        "cluster_df.isnull().sum()"
      ],
      "execution_count": 89,
      "outputs": [
        {
          "output_type": "execute_result",
          "data": {
            "text/plain": [
              "Cust Type                  0\n",
              "Customer No.               0\n",
              "Make                       0\n",
              "Model                   1422\n",
              "Order Type                 0\n",
              "Clean_CITY             29393\n",
              "Clean_Location_Area    29393\n",
              "Invoice No                 0\n",
              "Service_Time_Hours         0\n",
              "Total Value                0\n",
              "dtype: int64"
            ]
          },
          "metadata": {
            "tags": []
          },
          "execution_count": 89
        }
      ]
    },
    {
      "cell_type": "code",
      "metadata": {
        "id": "gKxVFTKTpS0h",
        "colab_type": "code",
        "colab": {}
      },
      "source": [
        "cluster_df = cluster_df[cluster_df['Model'].notnull()]\n",
        "cluster_df = cluster_df[cluster_df['Clean_CITY'].notnull()]\n",
        "cluster_df = cluster_df[cluster_df['Clean_Location_Area'].notnull()]"
      ],
      "execution_count": 0,
      "outputs": []
    },
    {
      "cell_type": "code",
      "metadata": {
        "id": "-MNUUERjpWHE",
        "colab_type": "code",
        "colab": {
          "base_uri": "https://localhost:8080/",
          "height": 208
        },
        "outputId": "f8e5aee4-cbe8-4a4f-bc29-8f0cf1b88414"
      },
      "source": [
        "cluster_df.isnull().sum()"
      ],
      "execution_count": 92,
      "outputs": [
        {
          "output_type": "execute_result",
          "data": {
            "text/plain": [
              "Cust Type              0\n",
              "Customer No.           0\n",
              "Make                   0\n",
              "Model                  0\n",
              "Order Type             0\n",
              "Clean_CITY             0\n",
              "Clean_Location_Area    0\n",
              "Invoice No             0\n",
              "Service_Time_Hours     0\n",
              "Total Value            0\n",
              "dtype: int64"
            ]
          },
          "metadata": {
            "tags": []
          },
          "execution_count": 92
        }
      ]
    },
    {
      "cell_type": "code",
      "metadata": {
        "id": "X5WwXfj1pbBa",
        "colab_type": "code",
        "colab": {
          "base_uri": "https://localhost:8080/",
          "height": 35
        },
        "outputId": "9e9e0679-a84f-478e-a431-a83befa8a6b8"
      },
      "source": [
        "cluster_df.shape"
      ],
      "execution_count": 93,
      "outputs": [
        {
          "output_type": "execute_result",
          "data": {
            "text/plain": [
              "(245698, 10)"
            ]
          },
          "metadata": {
            "tags": []
          },
          "execution_count": 93
        }
      ]
    },
    {
      "cell_type": "markdown",
      "metadata": {
        "id": "Blrg0rmUqE3_",
        "colab_type": "text"
      },
      "source": [
        "\n",
        "Selecting columns required for clustering"
      ]
    },
    {
      "cell_type": "code",
      "metadata": {
        "id": "n_rfrIgrpdnQ",
        "colab_type": "code",
        "colab": {}
      },
      "source": [
        "clusters = cluster_df.groupby(['Customer No.','Cust Type','Make','Model','Clean_CITY','Order Type']).agg(\n",
        "                                {\n",
        "                                 'Invoice No':'nunique',\n",
        "                                 'Total Value':'sum',\n",
        "                                 'Service_Time_Hours':'mean'\n",
        "                                }\n",
        ") "
      ],
      "execution_count": 0,
      "outputs": []
    },
    {
      "cell_type": "code",
      "metadata": {
        "id": "lbKOYkd6pmQN",
        "colab_type": "code",
        "colab": {
          "base_uri": "https://localhost:8080/",
          "height": 233
        },
        "outputId": "8e223470-04fb-4aa9-b6e1-931db594588b"
      },
      "source": [
        "clusters.head()"
      ],
      "execution_count": 97,
      "outputs": [
        {
          "output_type": "execute_result",
          "data": {
            "text/html": [
              "<div>\n",
              "<style scoped>\n",
              "    .dataframe tbody tr th:only-of-type {\n",
              "        vertical-align: middle;\n",
              "    }\n",
              "\n",
              "    .dataframe tbody tr th {\n",
              "        vertical-align: top;\n",
              "    }\n",
              "\n",
              "    .dataframe thead th {\n",
              "        text-align: right;\n",
              "    }\n",
              "</style>\n",
              "<table border=\"1\" class=\"dataframe\">\n",
              "  <thead>\n",
              "    <tr style=\"text-align: right;\">\n",
              "      <th></th>\n",
              "      <th></th>\n",
              "      <th></th>\n",
              "      <th></th>\n",
              "      <th></th>\n",
              "      <th></th>\n",
              "      <th>Invoice No</th>\n",
              "      <th>Total Value</th>\n",
              "      <th>Service_Time_Hours</th>\n",
              "    </tr>\n",
              "    <tr>\n",
              "      <th>Customer No.</th>\n",
              "      <th>Cust Type</th>\n",
              "      <th>Make</th>\n",
              "      <th>Model</th>\n",
              "      <th>Clean_CITY</th>\n",
              "      <th>Order Type</th>\n",
              "      <th></th>\n",
              "      <th></th>\n",
              "      <th></th>\n",
              "    </tr>\n",
              "  </thead>\n",
              "  <tbody>\n",
              "    <tr>\n",
              "      <th>1</th>\n",
              "      <th>Retail</th>\n",
              "      <th>MARUTI SUZUKI</th>\n",
              "      <th>OMNI</th>\n",
              "      <th>Pune</th>\n",
              "      <th>Running Repairs</th>\n",
              "      <td>1</td>\n",
              "      <td>0.00</td>\n",
              "      <td>321.365833</td>\n",
              "    </tr>\n",
              "    <tr>\n",
              "      <th>10</th>\n",
              "      <th>Retail</th>\n",
              "      <th>GENERAL MOTORS</th>\n",
              "      <th>OPTRA</th>\n",
              "      <th>Mumbai</th>\n",
              "      <th>Paid Service</th>\n",
              "      <td>2</td>\n",
              "      <td>4943.67</td>\n",
              "      <td>5.496667</td>\n",
              "    </tr>\n",
              "    <tr>\n",
              "      <th rowspan=\"2\" valign=\"top\">1000</th>\n",
              "      <th rowspan=\"2\" valign=\"top\">Retail</th>\n",
              "      <th rowspan=\"2\" valign=\"top\">MARUTI SUZUKI</th>\n",
              "      <th rowspan=\"2\" valign=\"top\">ALTO</th>\n",
              "      <th rowspan=\"2\" valign=\"top\">Pune</th>\n",
              "      <th>Paid Service</th>\n",
              "      <td>2</td>\n",
              "      <td>4799.70</td>\n",
              "      <td>5.378056</td>\n",
              "    </tr>\n",
              "    <tr>\n",
              "      <th>Running Repairs</th>\n",
              "      <td>2</td>\n",
              "      <td>1196.17</td>\n",
              "      <td>5.319444</td>\n",
              "    </tr>\n",
              "    <tr>\n",
              "      <th>10000</th>\n",
              "      <th>Retail</th>\n",
              "      <th>MARUTI SUZUKI</th>\n",
              "      <th>WAGONR</th>\n",
              "      <th>Hyderabad</th>\n",
              "      <th>Running Repairs</th>\n",
              "      <td>4</td>\n",
              "      <td>734.23</td>\n",
              "      <td>10.841042</td>\n",
              "    </tr>\n",
              "  </tbody>\n",
              "</table>\n",
              "</div>"
            ],
            "text/plain": [
              "                                                                         Invoice No  \\\n",
              "Customer No. Cust Type Make           Model  Clean_CITY Order Type                    \n",
              "1            Retail    MARUTI SUZUKI  OMNI   Pune       Running Repairs           1   \n",
              "10           Retail    GENERAL MOTORS OPTRA  Mumbai     Paid Service              2   \n",
              "1000         Retail    MARUTI SUZUKI  ALTO   Pune       Paid Service              2   \n",
              "                                                        Running Repairs           2   \n",
              "10000        Retail    MARUTI SUZUKI  WAGONR Hyderabad  Running Repairs           4   \n",
              "\n",
              "                                                                         Total Value  \\\n",
              "Customer No. Cust Type Make           Model  Clean_CITY Order Type                     \n",
              "1            Retail    MARUTI SUZUKI  OMNI   Pune       Running Repairs         0.00   \n",
              "10           Retail    GENERAL MOTORS OPTRA  Mumbai     Paid Service         4943.67   \n",
              "1000         Retail    MARUTI SUZUKI  ALTO   Pune       Paid Service         4799.70   \n",
              "                                                        Running Repairs      1196.17   \n",
              "10000        Retail    MARUTI SUZUKI  WAGONR Hyderabad  Running Repairs       734.23   \n",
              "\n",
              "                                                                         Service_Time_Hours  \n",
              "Customer No. Cust Type Make           Model  Clean_CITY Order Type                           \n",
              "1            Retail    MARUTI SUZUKI  OMNI   Pune       Running Repairs          321.365833  \n",
              "10           Retail    GENERAL MOTORS OPTRA  Mumbai     Paid Service               5.496667  \n",
              "1000         Retail    MARUTI SUZUKI  ALTO   Pune       Paid Service               5.378056  \n",
              "                                                        Running Repairs            5.319444  \n",
              "10000        Retail    MARUTI SUZUKI  WAGONR Hyderabad  Running Repairs           10.841042  "
            ]
          },
          "metadata": {
            "tags": []
          },
          "execution_count": 97
        }
      ]
    },
    {
      "cell_type": "code",
      "metadata": {
        "id": "KWg2bS16pvRb",
        "colab_type": "code",
        "colab": {
          "base_uri": "https://localhost:8080/",
          "height": 35
        },
        "outputId": "1658c4fa-1b5b-46d3-8093-b77f98f76c2a"
      },
      "source": [
        "clusters.columns"
      ],
      "execution_count": 98,
      "outputs": [
        {
          "output_type": "execute_result",
          "data": {
            "text/plain": [
              "Index(['Invoice No', 'Total Value', 'Service_Time_Hours'], dtype='object')"
            ]
          },
          "metadata": {
            "tags": []
          },
          "execution_count": 98
        }
      ]
    },
    {
      "cell_type": "code",
      "metadata": {
        "id": "hUzokSUhpyk1",
        "colab_type": "code",
        "colab": {}
      },
      "source": [
        "clusters.columns =['Total Invoices','Total Revenue','Total Servicing Hrs']"
      ],
      "execution_count": 0,
      "outputs": []
    },
    {
      "cell_type": "code",
      "metadata": {
        "id": "nObheFxtp422",
        "colab_type": "code",
        "colab": {}
      },
      "source": [
        "clusters = clusters.reset_index()"
      ],
      "execution_count": 0,
      "outputs": []
    },
    {
      "cell_type": "code",
      "metadata": {
        "id": "JoEojubEp7MT",
        "colab_type": "code",
        "colab": {
          "base_uri": "https://localhost:8080/",
          "height": 35
        },
        "outputId": "beb58877-1239-466f-b01d-061e81fdc3d5"
      },
      "source": [
        "clusters.shape"
      ],
      "execution_count": 103,
      "outputs": [
        {
          "output_type": "execute_result",
          "data": {
            "text/plain": [
              "(171533, 9)"
            ]
          },
          "metadata": {
            "tags": []
          },
          "execution_count": 103
        }
      ]
    },
    {
      "cell_type": "markdown",
      "metadata": {
        "id": "u_GUau7AqLGT",
        "colab_type": "text"
      },
      "source": [
        "\n",
        "Separating customers with zero revenue"
      ]
    },
    {
      "cell_type": "code",
      "metadata": {
        "id": "VT3PtE9Vp9vU",
        "colab_type": "code",
        "colab": {}
      },
      "source": [
        "zero_spenders = clusters[clusters['Total Revenue']<=0]"
      ],
      "execution_count": 0,
      "outputs": []
    },
    {
      "cell_type": "code",
      "metadata": {
        "id": "0w6wVwTop_1T",
        "colab_type": "code",
        "colab": {
          "base_uri": "https://localhost:8080/",
          "height": 35
        },
        "outputId": "1a76b3a3-d519-4457-8e3a-7b4268423cb9"
      },
      "source": [
        "zero_spenders.shape"
      ],
      "execution_count": 104,
      "outputs": [
        {
          "output_type": "execute_result",
          "data": {
            "text/plain": [
              "(16273, 9)"
            ]
          },
          "metadata": {
            "tags": []
          },
          "execution_count": 104
        }
      ]
    },
    {
      "cell_type": "code",
      "metadata": {
        "id": "7I-XsE8MqNnv",
        "colab_type": "code",
        "colab": {}
      },
      "source": [
        "zero_spenders['Clusters'] = 'zero_spenders'"
      ],
      "execution_count": 0,
      "outputs": []
    },
    {
      "cell_type": "code",
      "metadata": {
        "id": "GxQADrTxqPdF",
        "colab_type": "code",
        "colab": {
          "base_uri": "https://localhost:8080/",
          "height": 110
        },
        "outputId": "7281cf98-d17b-434c-f0b9-f9bf05f0fae8"
      },
      "source": [
        "zero_spenders.head(2)"
      ],
      "execution_count": 106,
      "outputs": [
        {
          "output_type": "execute_result",
          "data": {
            "text/html": [
              "<div>\n",
              "<style scoped>\n",
              "    .dataframe tbody tr th:only-of-type {\n",
              "        vertical-align: middle;\n",
              "    }\n",
              "\n",
              "    .dataframe tbody tr th {\n",
              "        vertical-align: top;\n",
              "    }\n",
              "\n",
              "    .dataframe thead th {\n",
              "        text-align: right;\n",
              "    }\n",
              "</style>\n",
              "<table border=\"1\" class=\"dataframe\">\n",
              "  <thead>\n",
              "    <tr style=\"text-align: right;\">\n",
              "      <th></th>\n",
              "      <th>Customer No.</th>\n",
              "      <th>Cust Type</th>\n",
              "      <th>Make</th>\n",
              "      <th>Model</th>\n",
              "      <th>Clean_CITY</th>\n",
              "      <th>Order Type</th>\n",
              "      <th>Total Invoices</th>\n",
              "      <th>Total Revenue</th>\n",
              "      <th>Total Servicing Hrs</th>\n",
              "      <th>Clusters</th>\n",
              "    </tr>\n",
              "  </thead>\n",
              "  <tbody>\n",
              "    <tr>\n",
              "      <th>0</th>\n",
              "      <td>1</td>\n",
              "      <td>Retail</td>\n",
              "      <td>MARUTI SUZUKI</td>\n",
              "      <td>OMNI</td>\n",
              "      <td>Pune</td>\n",
              "      <td>Running Repairs</td>\n",
              "      <td>1</td>\n",
              "      <td>0.0</td>\n",
              "      <td>321.365833</td>\n",
              "      <td>zero_spenders</td>\n",
              "    </tr>\n",
              "    <tr>\n",
              "      <th>5</th>\n",
              "      <td>10000</td>\n",
              "      <td>Retail</td>\n",
              "      <td>MARUTI SUZUKI</td>\n",
              "      <td>WAGONR</td>\n",
              "      <td>Hyderabad</td>\n",
              "      <td>SMC Redemption</td>\n",
              "      <td>2</td>\n",
              "      <td>0.0</td>\n",
              "      <td>1.629167</td>\n",
              "      <td>zero_spenders</td>\n",
              "    </tr>\n",
              "  </tbody>\n",
              "</table>\n",
              "</div>"
            ],
            "text/plain": [
              "  Customer No. Cust Type           Make   Model Clean_CITY       Order Type  \\\n",
              "0            1    Retail  MARUTI SUZUKI    OMNI       Pune  Running Repairs   \n",
              "5        10000    Retail  MARUTI SUZUKI  WAGONR  Hyderabad   SMC Redemption   \n",
              "\n",
              "   Total Invoices  Total Revenue  Total Servicing Hrs       Clusters  \n",
              "0               1            0.0           321.365833  zero_spenders  \n",
              "5               2            0.0             1.629167  zero_spenders  "
            ]
          },
          "metadata": {
            "tags": []
          },
          "execution_count": 106
        }
      ]
    },
    {
      "cell_type": "markdown",
      "metadata": {
        "id": "WKXzbITwqUVv",
        "colab_type": "text"
      },
      "source": [
        "Separating customers with non zero spends"
      ]
    },
    {
      "cell_type": "code",
      "metadata": {
        "id": "YFxiXz0NqVs3",
        "colab_type": "code",
        "colab": {}
      },
      "source": [
        "non_zero = clusters[clusters['Total Revenue']>0]"
      ],
      "execution_count": 0,
      "outputs": []
    },
    {
      "cell_type": "code",
      "metadata": {
        "id": "q3QkiyWCqXj-",
        "colab_type": "code",
        "colab": {
          "base_uri": "https://localhost:8080/",
          "height": 35
        },
        "outputId": "e0cffb7f-c6d4-4fe2-9b45-871a649d7548"
      },
      "source": [
        "non_zero.shape"
      ],
      "execution_count": 108,
      "outputs": [
        {
          "output_type": "execute_result",
          "data": {
            "text/plain": [
              "(155260, 9)"
            ]
          },
          "metadata": {
            "tags": []
          },
          "execution_count": 108
        }
      ]
    },
    {
      "cell_type": "code",
      "metadata": {
        "id": "Hn_btHl6qZZG",
        "colab_type": "code",
        "colab": {
          "base_uri": "https://localhost:8080/",
          "height": 156
        },
        "outputId": "d8debb5b-48ef-43dd-92aa-3c8cacc630bd"
      },
      "source": [
        "print(\"0.05 quantile :\",non_zero['Total Revenue'].quantile(0.05))\n",
        "print(\"0.25 quantile :\",non_zero['Total Revenue'].quantile(0.25))\n",
        "print(\"0.50 quantile :\",non_zero['Total Revenue'].quantile(0.50))\n",
        "print(\"0.75 quantile :\",non_zero['Total Revenue'].quantile(0.75))\n",
        "print(\"0.95 quantile :\",non_zero['Total Revenue'].quantile(0.95))\n",
        "print(\"minimum total revenue :\",non_zero['Total Revenue'].min())\n",
        "print(\"maximum total revenue :\",non_zero['Total Revenue'].max())\n",
        "print(\"mean total revenue :\",non_zero['Total Revenue'].mean())"
      ],
      "execution_count": 111,
      "outputs": [
        {
          "output_type": "stream",
          "text": [
            "0.05 quantile : 199.14\n",
            "0.25 quantile : 855.32\n",
            "0.50 quantile : 2911.665\n",
            "0.75 quantile : 7284.715\n",
            "0.95 quantile : 25835.69799999999\n",
            "minimum total revenue : 0.85\n",
            "maximum total revenue : 1627429.4600000002\n",
            "mean total revenue : 6994.111150199257\n"
          ],
          "name": "stdout"
        }
      ]
    },
    {
      "cell_type": "code",
      "metadata": {
        "id": "IB5NAK96qe3C",
        "colab_type": "code",
        "colab": {
          "base_uri": "https://localhost:8080/",
          "height": 156
        },
        "outputId": "ea12708d-878e-46b8-97d4-371246266a73"
      },
      "source": [
        "print(\"0.05 quantile :\",non_zero['Total Servicing Hrs'].quantile(0.05))\n",
        "print(\"0.25 quantile :\",non_zero['Total Servicing Hrs'].quantile(0.25))\n",
        "print(\"0.50 quantile :\",non_zero['Total Servicing Hrs'].quantile(0.50))\n",
        "print(\"0.75 quantile :\",non_zero['Total Servicing Hrs'].quantile(0.75))\n",
        "print(\"0.95 quantile :\",non_zero['Total Servicing Hrs'].quantile(0.95))\n",
        "print(\"mimimum servicing time in hrs :\",non_zero['Total Servicing Hrs'].min())\n",
        "print(\"maximum servicing time in hrs :\",non_zero['Total Servicing Hrs'].max())\n",
        "print(\"mean servicing time in hrs :\",non_zero['Total Servicing Hrs'].mean())"
      ],
      "execution_count": 112,
      "outputs": [
        {
          "output_type": "stream",
          "text": [
            "0.05 quantile : 0.2858194444444446\n",
            "0.25 quantile : 3.8802777777777777\n",
            "0.50 quantile : 19.537847222222222\n",
            "0.75 quantile : 55.95333333333333\n",
            "0.95 quantile : 294.3995833333328\n",
            "mimimum servicing time in hrs : 0.010833333333333334\n",
            "maximum servicing time in hrs : 13392.034444444444\n",
            "mean servicing time in hrs : 72.89619913536694\n"
          ],
          "name": "stdout"
        }
      ]
    },
    {
      "cell_type": "markdown",
      "metadata": {
        "id": "Jc7D6-WDqnEw",
        "colab_type": "text"
      },
      "source": [
        "Rule Based Clustering based on avg revenue"
      ]
    },
    {
      "cell_type": "code",
      "metadata": {
        "id": "Qu63_nGoqhz9",
        "colab_type": "code",
        "colab": {}
      },
      "source": [
        "# Low revenue customers (less than 0.50 quantile)\n",
        "low_revenue = non_zero[(non_zero['Total Revenue']< non_zero['Total Revenue'].quantile(0.50))]\n",
        "\n",
        "# Medium revenue customers (between 0.50 to 0.75 quantile)\n",
        "medium_revenue = non_zero[\n",
        "                            (non_zero['Total Revenue'] > non_zero['Total Revenue'].quantile(0.50)) & \n",
        "                            (non_zero['Total Revenue']< non_zero['Total Revenue'].quantile(0.75))\n",
        "                         ]\n",
        "\n",
        "# Average revenue customers (between 0.75 to 0.95 quantile)\n",
        "avg_revenue = non_zero[\n",
        "                        (non_zero['Total Revenue'] > non_zero['Total Revenue'].quantile(0.75)) & \n",
        "                        (non_zero['Total Revenue'] < non_zero['Total Revenue'].quantile(0.95))\n",
        "                      ]\n",
        "\n",
        "# High revenue customers (moe than 0.95 quantile)\n",
        "high_revenue = non_zero[\n",
        "                        (non_zero['Total Revenue'] > non_zero['Total Revenue'].quantile(0.95))\n",
        "                       ]"
      ],
      "execution_count": 0,
      "outputs": []
    },
    {
      "cell_type": "code",
      "metadata": {
        "id": "5-_dM-wvq8w-",
        "colab_type": "code",
        "colab": {
          "base_uri": "https://localhost:8080/",
          "height": 87
        },
        "outputId": "848246e5-f9b4-4cac-ecf8-f178ae4ace35"
      },
      "source": [
        "print(low_revenue.shape)\n",
        "print(medium_revenue.shape)\n",
        "print(avg_revenue.shape)\n",
        "print(high_revenue.shape)"
      ],
      "execution_count": 114,
      "outputs": [
        {
          "output_type": "stream",
          "text": [
            "(77630, 9)\n",
            "(38815, 9)\n",
            "(31052, 9)\n",
            "(7763, 9)\n"
          ],
          "name": "stdout"
        }
      ]
    },
    {
      "cell_type": "code",
      "metadata": {
        "id": "h9Vo6hxpq-qB",
        "colab_type": "code",
        "colab": {}
      },
      "source": [
        "# Naming the clusters\n",
        "low_revenue['Clusters'] = 'low_revenue'\n",
        "medium_revenue['Clusters'] = 'medium_revenue'\n",
        "avg_revenue['Clusters'] = 'avg_revenue'\n",
        "high_revenue['Clusters'] = 'high_revenue'"
      ],
      "execution_count": 0,
      "outputs": []
    },
    {
      "cell_type": "code",
      "metadata": {
        "id": "AS8ggx3rrBdh",
        "colab_type": "code",
        "colab": {}
      },
      "source": [
        "revenue_clust = pd.concat([low_revenue,medium_revenue,avg_revenue,high_revenue],axis=0)"
      ],
      "execution_count": 0,
      "outputs": []
    },
    {
      "cell_type": "code",
      "metadata": {
        "id": "x3cimSQ2rDXN",
        "colab_type": "code",
        "colab": {
          "base_uri": "https://localhost:8080/",
          "height": 202
        },
        "outputId": "910293e9-c554-4274-8337-4eee3b3110c1"
      },
      "source": [
        "revenue_clust.groupby(['Clusters']).agg({'Total Revenue':'mean','Total Servicing Hrs':'mean','Customer No.':'count'}).sort_values('Total Revenue',ascending=False)"
      ],
      "execution_count": 117,
      "outputs": [
        {
          "output_type": "execute_result",
          "data": {
            "text/html": [
              "<div>\n",
              "<style scoped>\n",
              "    .dataframe tbody tr th:only-of-type {\n",
              "        vertical-align: middle;\n",
              "    }\n",
              "\n",
              "    .dataframe tbody tr th {\n",
              "        vertical-align: top;\n",
              "    }\n",
              "\n",
              "    .dataframe thead th {\n",
              "        text-align: right;\n",
              "    }\n",
              "</style>\n",
              "<table border=\"1\" class=\"dataframe\">\n",
              "  <thead>\n",
              "    <tr style=\"text-align: right;\">\n",
              "      <th></th>\n",
              "      <th>Total Revenue</th>\n",
              "      <th>Total Servicing Hrs</th>\n",
              "      <th>Customer No.</th>\n",
              "    </tr>\n",
              "    <tr>\n",
              "      <th>Clusters</th>\n",
              "      <th></th>\n",
              "      <th></th>\n",
              "      <th></th>\n",
              "    </tr>\n",
              "  </thead>\n",
              "  <tbody>\n",
              "    <tr>\n",
              "      <th>high_revenue</th>\n",
              "      <td>53238.328151</td>\n",
              "      <td>317.685001</td>\n",
              "      <td>7763</td>\n",
              "    </tr>\n",
              "    <tr>\n",
              "      <th>avg_revenue</th>\n",
              "      <td>13128.734642</td>\n",
              "      <td>113.997044</td>\n",
              "      <td>31052</td>\n",
              "    </tr>\n",
              "    <tr>\n",
              "      <th>medium_revenue</th>\n",
              "      <td>4652.884270</td>\n",
              "      <td>58.577905</td>\n",
              "      <td>38815</td>\n",
              "    </tr>\n",
              "    <tr>\n",
              "      <th>low_revenue</th>\n",
              "      <td>1086.453493</td>\n",
              "      <td>39.136128</td>\n",
              "      <td>77630</td>\n",
              "    </tr>\n",
              "  </tbody>\n",
              "</table>\n",
              "</div>"
            ],
            "text/plain": [
              "                Total Revenue  Total Servicing Hrs  Customer No.\n",
              "Clusters                                                        \n",
              "high_revenue     53238.328151           317.685001          7763\n",
              "avg_revenue      13128.734642           113.997044         31052\n",
              "medium_revenue    4652.884270            58.577905         38815\n",
              "low_revenue       1086.453493            39.136128         77630"
            ]
          },
          "metadata": {
            "tags": []
          },
          "execution_count": 117
        }
      ]
    },
    {
      "cell_type": "code",
      "metadata": {
        "id": "qx5IthOerFrt",
        "colab_type": "code",
        "colab": {
          "base_uri": "https://localhost:8080/",
          "height": 387
        },
        "outputId": "5b3e8762-928e-4258-d6cb-282b9ae6a637"
      },
      "source": [
        "sns.lmplot(data=revenue_clust,x='Total Servicing Hrs', y='Total Revenue', hue='Clusters', fit_reg=False, legend=True, legend_out=True,size=5,aspect=2,scatter_kws={\"s\": 100})"
      ],
      "execution_count": 118,
      "outputs": [
        {
          "output_type": "execute_result",
          "data": {
            "text/plain": [
              "<seaborn.axisgrid.FacetGrid at 0x7fb9682020f0>"
            ]
          },
          "metadata": {
            "tags": []
          },
          "execution_count": 118
        },
        {
          "output_type": "display_data",
          "data": {
            "image/png": "[encoded data removed]",
            "text/plain": [
              "<Figure size 842.875x360 with 1 Axes>"
            ]
          },
          "metadata": {
            "tags": [],
            "needs_background": "light"
          }
        }
      ]
    },
    {
      "cell_type": "markdown",
      "metadata": {
        "id": "qh_yNJWTrMs9",
        "colab_type": "text"
      },
      "source": [
        "Rule Based Clustering based on avg servicing time"
      ]
    },
    {
      "cell_type": "code",
      "metadata": {
        "id": "M8vXNbeirIo9",
        "colab_type": "code",
        "colab": {}
      },
      "source": [
        "# super fast service (less than 0.50 quantile)\n",
        "super_fast = non_zero[non_zero['Total Servicing Hrs']< non_zero['Total Servicing Hrs'].quantile(0.50)]\n",
        "\n",
        "# fast service (between 0.50 to 0.75 quantile)\n",
        "fast = non_zero[\n",
        "                (non_zero['Total Servicing Hrs']> non_zero['Total Servicing Hrs'].quantile(0.50)) & \n",
        "                (non_zero['Total Servicing Hrs']< non_zero['Total Servicing Hrs'].quantile(0.75))\n",
        "                ]\n",
        "\n",
        "# slow service (between 0.75 to 0.95 quantile)\n",
        "slow = non_zero[\n",
        "                (non_zero['Total Servicing Hrs'] > non_zero['Total Servicing Hrs'].quantile(0.75)) & \n",
        "                (non_zero['Total Servicing Hrs'] < non_zero['Total Servicing Hrs'].quantile(0.95))\n",
        "                ]\n",
        "\n",
        "# super fast service (more than 0.95 quantile)\n",
        "super_slow = non_zero[\n",
        "                        non_zero['Total Servicing Hrs'] > non_zero['Total Servicing Hrs'].quantile(0.95)\n",
        "                     ]"
      ],
      "execution_count": 0,
      "outputs": []
    },
    {
      "cell_type": "code",
      "metadata": {
        "id": "9vZ1tD6DrPJX",
        "colab_type": "code",
        "colab": {
          "base_uri": "https://localhost:8080/",
          "height": 87
        },
        "outputId": "746655ae-9022-46a3-8a6c-bd0404c95779"
      },
      "source": [
        "print(super_fast.shape)\n",
        "print(fast.shape)\n",
        "print(slow.shape)\n",
        "print(super_slow.shape)"
      ],
      "execution_count": 120,
      "outputs": [
        {
          "output_type": "stream",
          "text": [
            "(77630, 9)\n",
            "(38815, 9)\n",
            "(31052, 9)\n",
            "(7763, 9)\n"
          ],
          "name": "stdout"
        }
      ]
    },
    {
      "cell_type": "code",
      "metadata": {
        "id": "cP4hyU8prQ5X",
        "colab_type": "code",
        "colab": {}
      },
      "source": [
        "super_fast['Clusters'] = 'super_fast'\n",
        "fast['Clusters'] = 'fast'\n",
        "slow['Clusters'] = 'slow'\n",
        "super_slow['Clusters'] = 'super_slow'"
      ],
      "execution_count": 0,
      "outputs": []
    },
    {
      "cell_type": "code",
      "metadata": {
        "id": "yTZOmDhYrULN",
        "colab_type": "code",
        "colab": {}
      },
      "source": [
        "f_clust = pd.concat([super_fast,fast,slow,super_slow],axis=0)"
      ],
      "execution_count": 0,
      "outputs": []
    },
    {
      "cell_type": "code",
      "metadata": {
        "id": "hICbOechrWYt",
        "colab_type": "code",
        "colab": {
          "base_uri": "https://localhost:8080/",
          "height": 202
        },
        "outputId": "e81498d0-a4d9-4282-abab-a481d318bca8"
      },
      "source": [
        "\n",
        "f_clust.groupby(['Clusters']).agg({'Total Revenue':'mean','Total Servicing Hrs':'mean','Customer No.':'count'}).sort_values('Total Servicing Hrs',ascending=False)"
      ],
      "execution_count": 123,
      "outputs": [
        {
          "output_type": "execute_result",
          "data": {
            "text/html": [
              "<div>\n",
              "<style scoped>\n",
              "    .dataframe tbody tr th:only-of-type {\n",
              "        vertical-align: middle;\n",
              "    }\n",
              "\n",
              "    .dataframe tbody tr th {\n",
              "        vertical-align: top;\n",
              "    }\n",
              "\n",
              "    .dataframe thead th {\n",
              "        text-align: right;\n",
              "    }\n",
              "</style>\n",
              "<table border=\"1\" class=\"dataframe\">\n",
              "  <thead>\n",
              "    <tr style=\"text-align: right;\">\n",
              "      <th></th>\n",
              "      <th>Total Revenue</th>\n",
              "      <th>Total Servicing Hrs</th>\n",
              "      <th>Customer No.</th>\n",
              "    </tr>\n",
              "    <tr>\n",
              "      <th>Clusters</th>\n",
              "      <th></th>\n",
              "      <th></th>\n",
              "      <th></th>\n",
              "    </tr>\n",
              "  </thead>\n",
              "  <tbody>\n",
              "    <tr>\n",
              "      <th>super_slow</th>\n",
              "      <td>28916.210140</td>\n",
              "      <td>723.392761</td>\n",
              "      <td>7763</td>\n",
              "    </tr>\n",
              "    <tr>\n",
              "      <th>slow</th>\n",
              "      <td>12875.201412</td>\n",
              "      <td>128.709527</td>\n",
              "      <td>31052</td>\n",
              "    </tr>\n",
              "    <tr>\n",
              "      <th>fast</th>\n",
              "      <td>6498.558506</td>\n",
              "      <td>34.350225</td>\n",
              "      <td>38815</td>\n",
              "    </tr>\n",
              "    <tr>\n",
              "      <th>super_fast</th>\n",
              "      <td>2697.241469</td>\n",
              "      <td>4.794199</td>\n",
              "      <td>77630</td>\n",
              "    </tr>\n",
              "  </tbody>\n",
              "</table>\n",
              "</div>"
            ],
            "text/plain": [
              "            Total Revenue  Total Servicing Hrs  Customer No.\n",
              "Clusters                                                    \n",
              "super_slow   28916.210140           723.392761          7763\n",
              "slow         12875.201412           128.709527         31052\n",
              "fast          6498.558506            34.350225         38815\n",
              "super_fast    2697.241469             4.794199         77630"
            ]
          },
          "metadata": {
            "tags": []
          },
          "execution_count": 123
        }
      ]
    },
    {
      "cell_type": "code",
      "metadata": {
        "id": "4vJFyNMbrZMT",
        "colab_type": "code",
        "colab": {
          "base_uri": "https://localhost:8080/",
          "height": 387
        },
        "outputId": "cb545156-2e50-4973-d003-9c4727b05763"
      },
      "source": [
        "sns.lmplot(data=f_clust,x='Total Servicing Hrs', y='Total Revenue', hue='Clusters', fit_reg=False, legend=True, legend_out=True,size=5,aspect=2,scatter_kws={\"s\": 100})"
      ],
      "execution_count": 124,
      "outputs": [
        {
          "output_type": "execute_result",
          "data": {
            "text/plain": [
              "<seaborn.axisgrid.FacetGrid at 0x7fb96816bf98>"
            ]
          },
          "metadata": {
            "tags": []
          },
          "execution_count": 124
        },
        {
          "output_type": "display_data",
          "data": {
            "image/png": "[encoded data removed]",
            "text/plain": [
              "<Figure size 811.375x360 with 1 Axes>"
            ]
          },
          "metadata": {
            "tags": [],
            "needs_background": "light"
          }
        }
      ]
    },
    {
      "cell_type": "markdown",
      "metadata": {
        "id": "7Rn0tzjQroVD",
        "colab_type": "text"
      },
      "source": [
        "K-Means Clustering"
      ]
    },
    {
      "cell_type": "code",
      "metadata": {
        "id": "y_tL6W5PrbMY",
        "colab_type": "code",
        "colab": {}
      },
      "source": [
        "final_cluster = non_zero"
      ],
      "execution_count": 0,
      "outputs": []
    },
    {
      "cell_type": "code",
      "metadata": {
        "id": "WJdbWzYXrqZi",
        "colab_type": "code",
        "colab": {
          "base_uri": "https://localhost:8080/",
          "height": 35
        },
        "outputId": "9d1b181a-920d-4d7e-a2c2-fd1a3e77538d"
      },
      "source": [
        "final_cluster.shape"
      ],
      "execution_count": 126,
      "outputs": [
        {
          "output_type": "execute_result",
          "data": {
            "text/plain": [
              "(155260, 9)"
            ]
          },
          "metadata": {
            "tags": []
          },
          "execution_count": 126
        }
      ]
    },
    {
      "cell_type": "code",
      "metadata": {
        "id": "0YojdRMyrsU3",
        "colab_type": "code",
        "colab": {
          "base_uri": "https://localhost:8080/",
          "height": 294
        },
        "outputId": "134def94-f46b-4d2e-9d98-d6be89c01c5e"
      },
      "source": [
        "final_cluster.describe()"
      ],
      "execution_count": 127,
      "outputs": [
        {
          "output_type": "execute_result",
          "data": {
            "text/html": [
              "<div>\n",
              "<style scoped>\n",
              "    .dataframe tbody tr th:only-of-type {\n",
              "        vertical-align: middle;\n",
              "    }\n",
              "\n",
              "    .dataframe tbody tr th {\n",
              "        vertical-align: top;\n",
              "    }\n",
              "\n",
              "    .dataframe thead th {\n",
              "        text-align: right;\n",
              "    }\n",
              "</style>\n",
              "<table border=\"1\" class=\"dataframe\">\n",
              "  <thead>\n",
              "    <tr style=\"text-align: right;\">\n",
              "      <th></th>\n",
              "      <th>Total Invoices</th>\n",
              "      <th>Total Revenue</th>\n",
              "      <th>Total Servicing Hrs</th>\n",
              "    </tr>\n",
              "  </thead>\n",
              "  <tbody>\n",
              "    <tr>\n",
              "      <th>count</th>\n",
              "      <td>155260.000000</td>\n",
              "      <td>1.552600e+05</td>\n",
              "      <td>155260.000000</td>\n",
              "    </tr>\n",
              "    <tr>\n",
              "      <th>mean</th>\n",
              "      <td>1.443630</td>\n",
              "      <td>6.994111e+03</td>\n",
              "      <td>72.896199</td>\n",
              "    </tr>\n",
              "    <tr>\n",
              "      <th>std</th>\n",
              "      <td>1.480906</td>\n",
              "      <td>1.565903e+04</td>\n",
              "      <td>234.777198</td>\n",
              "    </tr>\n",
              "    <tr>\n",
              "      <th>min</th>\n",
              "      <td>1.000000</td>\n",
              "      <td>8.500000e-01</td>\n",
              "      <td>0.010833</td>\n",
              "    </tr>\n",
              "    <tr>\n",
              "      <th>25%</th>\n",
              "      <td>1.000000</td>\n",
              "      <td>8.553200e+02</td>\n",
              "      <td>3.880278</td>\n",
              "    </tr>\n",
              "    <tr>\n",
              "      <th>50%</th>\n",
              "      <td>1.000000</td>\n",
              "      <td>2.911665e+03</td>\n",
              "      <td>19.537847</td>\n",
              "    </tr>\n",
              "    <tr>\n",
              "      <th>75%</th>\n",
              "      <td>1.000000</td>\n",
              "      <td>7.284715e+03</td>\n",
              "      <td>55.953333</td>\n",
              "    </tr>\n",
              "    <tr>\n",
              "      <th>max</th>\n",
              "      <td>226.000000</td>\n",
              "      <td>1.627429e+06</td>\n",
              "      <td>13392.034444</td>\n",
              "    </tr>\n",
              "  </tbody>\n",
              "</table>\n",
              "</div>"
            ],
            "text/plain": [
              "       Total Invoices  Total Revenue  Total Servicing Hrs\n",
              "count   155260.000000   1.552600e+05        155260.000000\n",
              "mean         1.443630   6.994111e+03            72.896199\n",
              "std          1.480906   1.565903e+04           234.777198\n",
              "min          1.000000   8.500000e-01             0.010833\n",
              "25%          1.000000   8.553200e+02             3.880278\n",
              "50%          1.000000   2.911665e+03            19.537847\n",
              "75%          1.000000   7.284715e+03            55.953333\n",
              "max        226.000000   1.627429e+06         13392.034444"
            ]
          },
          "metadata": {
            "tags": []
          },
          "execution_count": 127
        }
      ]
    },
    {
      "cell_type": "code",
      "metadata": {
        "id": "vqdLqyLnruPN",
        "colab_type": "code",
        "colab": {
          "base_uri": "https://localhost:8080/",
          "height": 202
        },
        "outputId": "782d4149-8f99-4227-e48b-fbf48c1c4008"
      },
      "source": [
        "final_cluster.head()"
      ],
      "execution_count": 128,
      "outputs": [
        {
          "output_type": "execute_result",
          "data": {
            "text/html": [
              "<div>\n",
              "<style scoped>\n",
              "    .dataframe tbody tr th:only-of-type {\n",
              "        vertical-align: middle;\n",
              "    }\n",
              "\n",
              "    .dataframe tbody tr th {\n",
              "        vertical-align: top;\n",
              "    }\n",
              "\n",
              "    .dataframe thead th {\n",
              "        text-align: right;\n",
              "    }\n",
              "</style>\n",
              "<table border=\"1\" class=\"dataframe\">\n",
              "  <thead>\n",
              "    <tr style=\"text-align: right;\">\n",
              "      <th></th>\n",
              "      <th>Customer No.</th>\n",
              "      <th>Cust Type</th>\n",
              "      <th>Make</th>\n",
              "      <th>Model</th>\n",
              "      <th>Clean_CITY</th>\n",
              "      <th>Order Type</th>\n",
              "      <th>Total Invoices</th>\n",
              "      <th>Total Revenue</th>\n",
              "      <th>Total Servicing Hrs</th>\n",
              "    </tr>\n",
              "  </thead>\n",
              "  <tbody>\n",
              "    <tr>\n",
              "      <th>1</th>\n",
              "      <td>10</td>\n",
              "      <td>Retail</td>\n",
              "      <td>GENERAL MOTORS</td>\n",
              "      <td>OPTRA</td>\n",
              "      <td>Mumbai</td>\n",
              "      <td>Paid Service</td>\n",
              "      <td>2</td>\n",
              "      <td>4943.67</td>\n",
              "      <td>5.496667</td>\n",
              "    </tr>\n",
              "    <tr>\n",
              "      <th>2</th>\n",
              "      <td>1000</td>\n",
              "      <td>Retail</td>\n",
              "      <td>MARUTI SUZUKI</td>\n",
              "      <td>ALTO</td>\n",
              "      <td>Pune</td>\n",
              "      <td>Paid Service</td>\n",
              "      <td>2</td>\n",
              "      <td>4799.70</td>\n",
              "      <td>5.378056</td>\n",
              "    </tr>\n",
              "    <tr>\n",
              "      <th>3</th>\n",
              "      <td>1000</td>\n",
              "      <td>Retail</td>\n",
              "      <td>MARUTI SUZUKI</td>\n",
              "      <td>ALTO</td>\n",
              "      <td>Pune</td>\n",
              "      <td>Running Repairs</td>\n",
              "      <td>2</td>\n",
              "      <td>1196.17</td>\n",
              "      <td>5.319444</td>\n",
              "    </tr>\n",
              "    <tr>\n",
              "      <th>4</th>\n",
              "      <td>10000</td>\n",
              "      <td>Retail</td>\n",
              "      <td>MARUTI SUZUKI</td>\n",
              "      <td>WAGONR</td>\n",
              "      <td>Hyderabad</td>\n",
              "      <td>Running Repairs</td>\n",
              "      <td>4</td>\n",
              "      <td>734.23</td>\n",
              "      <td>10.841042</td>\n",
              "    </tr>\n",
              "    <tr>\n",
              "      <th>6</th>\n",
              "      <td>10000</td>\n",
              "      <td>Retail</td>\n",
              "      <td>MARUTI SUZUKI</td>\n",
              "      <td>WAGONR</td>\n",
              "      <td>Hyderabad</td>\n",
              "      <td>SMC Value Package</td>\n",
              "      <td>1</td>\n",
              "      <td>1001.29</td>\n",
              "      <td>3.169444</td>\n",
              "    </tr>\n",
              "  </tbody>\n",
              "</table>\n",
              "</div>"
            ],
            "text/plain": [
              "  Customer No. Cust Type            Make   Model Clean_CITY  \\\n",
              "1           10    Retail  GENERAL MOTORS   OPTRA     Mumbai   \n",
              "2         1000    Retail   MARUTI SUZUKI    ALTO       Pune   \n",
              "3         1000    Retail   MARUTI SUZUKI    ALTO       Pune   \n",
              "4        10000    Retail   MARUTI SUZUKI  WAGONR  Hyderabad   \n",
              "6        10000    Retail   MARUTI SUZUKI  WAGONR  Hyderabad   \n",
              "\n",
              "          Order Type  Total Invoices  Total Revenue  Total Servicing Hrs  \n",
              "1       Paid Service               2        4943.67             5.496667  \n",
              "2       Paid Service               2        4799.70             5.378056  \n",
              "3    Running Repairs               2        1196.17             5.319444  \n",
              "4    Running Repairs               4         734.23            10.841042  \n",
              "6  SMC Value Package               1        1001.29             3.169444  "
            ]
          },
          "metadata": {
            "tags": []
          },
          "execution_count": 128
        }
      ]
    },
    {
      "cell_type": "markdown",
      "metadata": {
        "id": "2UpHyCiKr3WS",
        "colab_type": "text"
      },
      "source": [
        "Label Encoding Categorical Columns"
      ]
    },
    {
      "cell_type": "code",
      "metadata": {
        "id": "jXFUamF9rvtJ",
        "colab_type": "code",
        "colab": {}
      },
      "source": [
        "X = final_cluster.drop(['Customer No.'],axis=1)\n",
        "\n",
        "le=LabelEncoder()\n",
        "X[\"Make\"]=le.fit_transform(X[\"Make\"])\n",
        "X[\"Model\"]=le.fit_transform(X[\"Model\"])\n",
        "X[\"Clean_CITY\"]=le.fit_transform(X[\"Clean_CITY\"])\n",
        "X[\"Cust Type\"]=le.fit_transform(X[\"Cust Type\"])\n",
        "X[\"Order Type\"]=le.fit_transform(X[\"Order Type\"])"
      ],
      "execution_count": 0,
      "outputs": []
    },
    {
      "cell_type": "code",
      "metadata": {
        "id": "LNUmeyeCr50Z",
        "colab_type": "code",
        "colab": {
          "base_uri": "https://localhost:8080/",
          "height": 202
        },
        "outputId": "f466a72d-ce46-4dce-a603-da35fff9c4ad"
      },
      "source": [
        "X.head()"
      ],
      "execution_count": 130,
      "outputs": [
        {
          "output_type": "execute_result",
          "data": {
            "text/html": [
              "<div>\n",
              "<style scoped>\n",
              "    .dataframe tbody tr th:only-of-type {\n",
              "        vertical-align: middle;\n",
              "    }\n",
              "\n",
              "    .dataframe tbody tr th {\n",
              "        vertical-align: top;\n",
              "    }\n",
              "\n",
              "    .dataframe thead th {\n",
              "        text-align: right;\n",
              "    }\n",
              "</style>\n",
              "<table border=\"1\" class=\"dataframe\">\n",
              "  <thead>\n",
              "    <tr style=\"text-align: right;\">\n",
              "      <th></th>\n",
              "      <th>Cust Type</th>\n",
              "      <th>Make</th>\n",
              "      <th>Model</th>\n",
              "      <th>Clean_CITY</th>\n",
              "      <th>Order Type</th>\n",
              "      <th>Total Invoices</th>\n",
              "      <th>Total Revenue</th>\n",
              "      <th>Total Servicing Hrs</th>\n",
              "    </tr>\n",
              "  </thead>\n",
              "  <tbody>\n",
              "    <tr>\n",
              "      <th>1</th>\n",
              "      <td>5</td>\n",
              "      <td>6</td>\n",
              "      <td>130</td>\n",
              "      <td>169</td>\n",
              "      <td>1</td>\n",
              "      <td>2</td>\n",
              "      <td>4943.67</td>\n",
              "      <td>5.496667</td>\n",
              "    </tr>\n",
              "    <tr>\n",
              "      <th>2</th>\n",
              "      <td>5</td>\n",
              "      <td>13</td>\n",
              "      <td>16</td>\n",
              "      <td>210</td>\n",
              "      <td>1</td>\n",
              "      <td>2</td>\n",
              "      <td>4799.70</td>\n",
              "      <td>5.378056</td>\n",
              "    </tr>\n",
              "    <tr>\n",
              "      <th>3</th>\n",
              "      <td>5</td>\n",
              "      <td>13</td>\n",
              "      <td>16</td>\n",
              "      <td>210</td>\n",
              "      <td>3</td>\n",
              "      <td>2</td>\n",
              "      <td>1196.17</td>\n",
              "      <td>5.319444</td>\n",
              "    </tr>\n",
              "    <tr>\n",
              "      <th>4</th>\n",
              "      <td>5</td>\n",
              "      <td>13</td>\n",
              "      <td>206</td>\n",
              "      <td>103</td>\n",
              "      <td>3</td>\n",
              "      <td>4</td>\n",
              "      <td>734.23</td>\n",
              "      <td>10.841042</td>\n",
              "    </tr>\n",
              "    <tr>\n",
              "      <th>6</th>\n",
              "      <td>5</td>\n",
              "      <td>13</td>\n",
              "      <td>206</td>\n",
              "      <td>103</td>\n",
              "      <td>5</td>\n",
              "      <td>1</td>\n",
              "      <td>1001.29</td>\n",
              "      <td>3.169444</td>\n",
              "    </tr>\n",
              "  </tbody>\n",
              "</table>\n",
              "</div>"
            ],
            "text/plain": [
              "   Cust Type  Make  Model  Clean_CITY  Order Type  Total Invoices  \\\n",
              "1          5     6    130         169           1               2   \n",
              "2          5    13     16         210           1               2   \n",
              "3          5    13     16         210           3               2   \n",
              "4          5    13    206         103           3               4   \n",
              "6          5    13    206         103           5               1   \n",
              "\n",
              "   Total Revenue  Total Servicing Hrs  \n",
              "1        4943.67             5.496667  \n",
              "2        4799.70             5.378056  \n",
              "3        1196.17             5.319444  \n",
              "4         734.23            10.841042  \n",
              "6        1001.29             3.169444  "
            ]
          },
          "metadata": {
            "tags": []
          },
          "execution_count": 130
        }
      ]
    },
    {
      "cell_type": "markdown",
      "metadata": {
        "id": "N-EMeG-Yr9uX",
        "colab_type": "text"
      },
      "source": [
        "Scaling the features"
      ]
    },
    {
      "cell_type": "code",
      "metadata": {
        "id": "VekfWfBHr7el",
        "colab_type": "code",
        "colab": {
          "base_uri": "https://localhost:8080/",
          "height": 202
        },
        "outputId": "9b397d93-588b-40af-b148-32ff5f588a91"
      },
      "source": [
        "std = StandardScaler()\n",
        "X=std.fit_transform(X)\n",
        "\n",
        "scaled_data = pd.DataFrame(X)\n",
        "scaled_data.columns = ['Cust Type','Make','Model','Clean_CITY','Order Type','Total Invoices','Total Revenue','Total Servicing Hrs']\n",
        "scaled_data.head()"
      ],
      "execution_count": 131,
      "outputs": [
        {
          "output_type": "execute_result",
          "data": {
            "text/html": [
              "<div>\n",
              "<style scoped>\n",
              "    .dataframe tbody tr th:only-of-type {\n",
              "        vertical-align: middle;\n",
              "    }\n",
              "\n",
              "    .dataframe tbody tr th {\n",
              "        vertical-align: top;\n",
              "    }\n",
              "\n",
              "    .dataframe thead th {\n",
              "        text-align: right;\n",
              "    }\n",
              "</style>\n",
              "<table border=\"1\" class=\"dataframe\">\n",
              "  <thead>\n",
              "    <tr style=\"text-align: right;\">\n",
              "      <th></th>\n",
              "      <th>Cust Type</th>\n",
              "      <th>Make</th>\n",
              "      <th>Model</th>\n",
              "      <th>Clean_CITY</th>\n",
              "      <th>Order Type</th>\n",
              "      <th>Total Invoices</th>\n",
              "      <th>Total Revenue</th>\n",
              "      <th>Total Servicing Hrs</th>\n",
              "    </tr>\n",
              "  </thead>\n",
              "  <tbody>\n",
              "    <tr>\n",
              "      <th>0</th>\n",
              "      <td>0.045933</td>\n",
              "      <td>-1.197916</td>\n",
              "      <td>0.163695</td>\n",
              "      <td>0.255284</td>\n",
              "      <td>-0.841542</td>\n",
              "      <td>0.375697</td>\n",
              "      <td>-0.130943</td>\n",
              "      <td>-0.287080</td>\n",
              "    </tr>\n",
              "    <tr>\n",
              "      <th>1</th>\n",
              "      <td>0.045933</td>\n",
              "      <td>-0.007664</td>\n",
              "      <td>-1.574291</td>\n",
              "      <td>0.776774</td>\n",
              "      <td>-0.841542</td>\n",
              "      <td>0.375697</td>\n",
              "      <td>-0.140138</td>\n",
              "      <td>-0.287585</td>\n",
              "    </tr>\n",
              "    <tr>\n",
              "      <th>2</th>\n",
              "      <td>0.045933</td>\n",
              "      <td>-0.007664</td>\n",
              "      <td>-1.574291</td>\n",
              "      <td>0.776774</td>\n",
              "      <td>0.664826</td>\n",
              "      <td>0.375697</td>\n",
              "      <td>-0.370263</td>\n",
              "      <td>-0.287834</td>\n",
              "    </tr>\n",
              "    <tr>\n",
              "      <th>3</th>\n",
              "      <td>0.045933</td>\n",
              "      <td>-0.007664</td>\n",
              "      <td>1.322352</td>\n",
              "      <td>-0.584188</td>\n",
              "      <td>0.664826</td>\n",
              "      <td>1.726226</td>\n",
              "      <td>-0.399763</td>\n",
              "      <td>-0.264316</td>\n",
              "    </tr>\n",
              "    <tr>\n",
              "      <th>4</th>\n",
              "      <td>0.045933</td>\n",
              "      <td>-0.007664</td>\n",
              "      <td>1.322352</td>\n",
              "      <td>-0.584188</td>\n",
              "      <td>2.171193</td>\n",
              "      <td>-0.299568</td>\n",
              "      <td>-0.382708</td>\n",
              "      <td>-0.296992</td>\n",
              "    </tr>\n",
              "  </tbody>\n",
              "</table>\n",
              "</div>"
            ],
            "text/plain": [
              "   Cust Type      Make     Model  Clean_CITY  Order Type  Total Invoices  \\\n",
              "0   0.045933 -1.197916  0.163695    0.255284   -0.841542        0.375697   \n",
              "1   0.045933 -0.007664 -1.574291    0.776774   -0.841542        0.375697   \n",
              "2   0.045933 -0.007664 -1.574291    0.776774    0.664826        0.375697   \n",
              "3   0.045933 -0.007664  1.322352   -0.584188    0.664826        1.726226   \n",
              "4   0.045933 -0.007664  1.322352   -0.584188    2.171193       -0.299568   \n",
              "\n",
              "   Total Revenue  Total Servicing Hrs  \n",
              "0      -0.130943            -0.287080  \n",
              "1      -0.140138            -0.287585  \n",
              "2      -0.370263            -0.287834  \n",
              "3      -0.399763            -0.264316  \n",
              "4      -0.382708            -0.296992  "
            ]
          },
          "metadata": {
            "tags": []
          },
          "execution_count": 131
        }
      ]
    },
    {
      "cell_type": "markdown",
      "metadata": {
        "id": "VV1GNH1WsEXx",
        "colab_type": "text"
      },
      "source": [
        "Calculating wcss score using elbow method"
      ]
    },
    {
      "cell_type": "code",
      "metadata": {
        "id": "e_z3oRMAsB8Z",
        "colab_type": "code",
        "colab": {}
      },
      "source": [
        "wcss=[]\n",
        "for i in range(2,12):\n",
        "    clf=KMeans(n_clusters=i,random_state=42,init='k-means++')\n",
        "    clf.fit(X)\n",
        "    wcss.append(clf.inertia_)"
      ],
      "execution_count": 0,
      "outputs": []
    },
    {
      "cell_type": "code",
      "metadata": {
        "id": "bIt2jVjCsHbg",
        "colab_type": "code",
        "colab": {
          "base_uri": "https://localhost:8080/",
          "height": 290
        },
        "outputId": "bb384a92-da84-4fdc-dd98-cfdd11c434c5"
      },
      "source": [
        "x=np.arange(2,12)\n",
        "plt.plot(x,wcss)\n",
        "plt.scatter(x,wcss)\n",
        "plt.ylabel(\"Within Cluster Sum of Squares (WCSS)\")\n",
        "plt.xlabel(\"Number of Clusters\");"
      ],
      "execution_count": 133,
      "outputs": [
        {
          "output_type": "display_data",
          "data": {
            "image/png": "[encoded data removed]",
            "text/plain": [
              "<Figure size 432x288 with 1 Axes>"
            ]
          },
          "metadata": {
            "tags": [],
            "needs_background": "light"
          }
        }
      ]
    },
    {
      "cell_type": "code",
      "metadata": {
        "id": "3fF7vvbBsObY",
        "colab_type": "code",
        "colab": {
          "base_uri": "https://localhost:8080/",
          "height": 69
        },
        "outputId": "1f6d222f-d3b3-4d21-9575-0239dd621120"
      },
      "source": [
        "clf_final=KMeans(n_clusters=6,random_state=42,init='k-means++')\n",
        "clf_final.fit(X)"
      ],
      "execution_count": 134,
      "outputs": [
        {
          "output_type": "execute_result",
          "data": {
            "text/plain": [
              "KMeans(algorithm='auto', copy_x=True, init='k-means++', max_iter=300,\n",
              "       n_clusters=6, n_init=10, n_jobs=None, precompute_distances='auto',\n",
              "       random_state=42, tol=0.0001, verbose=0)"
            ]
          },
          "metadata": {
            "tags": []
          },
          "execution_count": 134
        }
      ]
    },
    {
      "cell_type": "code",
      "metadata": {
        "id": "t3qAV9amsUhi",
        "colab_type": "code",
        "colab": {}
      },
      "source": [
        "final_cluster[\"Clusters\"]=clf_final.predict(X)"
      ],
      "execution_count": 0,
      "outputs": []
    },
    {
      "cell_type": "code",
      "metadata": {
        "id": "tuSPFiazsW_f",
        "colab_type": "code",
        "colab": {
          "base_uri": "https://localhost:8080/",
          "height": 202
        },
        "outputId": "72ec82a4-5f38-49e2-ef48-aa480ebb0326"
      },
      "source": [
        "final_cluster.head()"
      ],
      "execution_count": 136,
      "outputs": [
        {
          "output_type": "execute_result",
          "data": {
            "text/html": [
              "<div>\n",
              "<style scoped>\n",
              "    .dataframe tbody tr th:only-of-type {\n",
              "        vertical-align: middle;\n",
              "    }\n",
              "\n",
              "    .dataframe tbody tr th {\n",
              "        vertical-align: top;\n",
              "    }\n",
              "\n",
              "    .dataframe thead th {\n",
              "        text-align: right;\n",
              "    }\n",
              "</style>\n",
              "<table border=\"1\" class=\"dataframe\">\n",
              "  <thead>\n",
              "    <tr style=\"text-align: right;\">\n",
              "      <th></th>\n",
              "      <th>Customer No.</th>\n",
              "      <th>Cust Type</th>\n",
              "      <th>Make</th>\n",
              "      <th>Model</th>\n",
              "      <th>Clean_CITY</th>\n",
              "      <th>Order Type</th>\n",
              "      <th>Total Invoices</th>\n",
              "      <th>Total Revenue</th>\n",
              "      <th>Total Servicing Hrs</th>\n",
              "      <th>Clusters</th>\n",
              "    </tr>\n",
              "  </thead>\n",
              "  <tbody>\n",
              "    <tr>\n",
              "      <th>1</th>\n",
              "      <td>10</td>\n",
              "      <td>Retail</td>\n",
              "      <td>GENERAL MOTORS</td>\n",
              "      <td>OPTRA</td>\n",
              "      <td>Mumbai</td>\n",
              "      <td>Paid Service</td>\n",
              "      <td>2</td>\n",
              "      <td>4943.67</td>\n",
              "      <td>5.496667</td>\n",
              "      <td>3</td>\n",
              "    </tr>\n",
              "    <tr>\n",
              "      <th>2</th>\n",
              "      <td>1000</td>\n",
              "      <td>Retail</td>\n",
              "      <td>MARUTI SUZUKI</td>\n",
              "      <td>ALTO</td>\n",
              "      <td>Pune</td>\n",
              "      <td>Paid Service</td>\n",
              "      <td>2</td>\n",
              "      <td>4799.70</td>\n",
              "      <td>5.378056</td>\n",
              "      <td>0</td>\n",
              "    </tr>\n",
              "    <tr>\n",
              "      <th>3</th>\n",
              "      <td>1000</td>\n",
              "      <td>Retail</td>\n",
              "      <td>MARUTI SUZUKI</td>\n",
              "      <td>ALTO</td>\n",
              "      <td>Pune</td>\n",
              "      <td>Running Repairs</td>\n",
              "      <td>2</td>\n",
              "      <td>1196.17</td>\n",
              "      <td>5.319444</td>\n",
              "      <td>0</td>\n",
              "    </tr>\n",
              "    <tr>\n",
              "      <th>4</th>\n",
              "      <td>10000</td>\n",
              "      <td>Retail</td>\n",
              "      <td>MARUTI SUZUKI</td>\n",
              "      <td>WAGONR</td>\n",
              "      <td>Hyderabad</td>\n",
              "      <td>Running Repairs</td>\n",
              "      <td>4</td>\n",
              "      <td>734.23</td>\n",
              "      <td>10.841042</td>\n",
              "      <td>2</td>\n",
              "    </tr>\n",
              "    <tr>\n",
              "      <th>6</th>\n",
              "      <td>10000</td>\n",
              "      <td>Retail</td>\n",
              "      <td>MARUTI SUZUKI</td>\n",
              "      <td>WAGONR</td>\n",
              "      <td>Hyderabad</td>\n",
              "      <td>SMC Value Package</td>\n",
              "      <td>1</td>\n",
              "      <td>1001.29</td>\n",
              "      <td>3.169444</td>\n",
              "      <td>2</td>\n",
              "    </tr>\n",
              "  </tbody>\n",
              "</table>\n",
              "</div>"
            ],
            "text/plain": [
              "  Customer No. Cust Type            Make   Model Clean_CITY  \\\n",
              "1           10    Retail  GENERAL MOTORS   OPTRA     Mumbai   \n",
              "2         1000    Retail   MARUTI SUZUKI    ALTO       Pune   \n",
              "3         1000    Retail   MARUTI SUZUKI    ALTO       Pune   \n",
              "4        10000    Retail   MARUTI SUZUKI  WAGONR  Hyderabad   \n",
              "6        10000    Retail   MARUTI SUZUKI  WAGONR  Hyderabad   \n",
              "\n",
              "          Order Type  Total Invoices  Total Revenue  Total Servicing Hrs  \\\n",
              "1       Paid Service               2        4943.67             5.496667   \n",
              "2       Paid Service               2        4799.70             5.378056   \n",
              "3    Running Repairs               2        1196.17             5.319444   \n",
              "4    Running Repairs               4         734.23            10.841042   \n",
              "6  SMC Value Package               1        1001.29             3.169444   \n",
              "\n",
              "   Clusters  \n",
              "1         3  \n",
              "2         0  \n",
              "3         0  \n",
              "4         2  \n",
              "6         2  "
            ]
          },
          "metadata": {
            "tags": []
          },
          "execution_count": 136
        }
      ]
    },
    {
      "cell_type": "code",
      "metadata": {
        "id": "xy5apy_2sX5P",
        "colab_type": "code",
        "colab": {}
      },
      "source": [
        "final_cluster.to_csv('Final_Clusters.csv')"
      ],
      "execution_count": 0,
      "outputs": []
    },
    {
      "cell_type": "code",
      "metadata": {
        "id": "UK28cbgrsaoV",
        "colab_type": "code",
        "colab": {}
      },
      "source": [
        "cluster_excel = final_cluster.groupby([\"Clusters\",\"Cust Type\"]).agg({\"Total Revenue\":\"mean\",\"Total Servicing Hrs\":'mean',\"Customer No.\":\"count\"}).sort_values('Total Revenue')"
      ],
      "execution_count": 0,
      "outputs": []
    },
    {
      "cell_type": "code",
      "metadata": {
        "id": "HeDkQtwNsc4x",
        "colab_type": "code",
        "colab": {
          "base_uri": "https://localhost:8080/",
          "height": 846
        },
        "outputId": "15d43639-2267-46cd-9662-b56b694d4265"
      },
      "source": [
        "final_cluster.groupby([\"Clusters\",\"Order Type\"]).agg({\"Total Revenue\":\"mean\",\"Total Servicing Hrs\":'mean',\"Customer No.\":\"count\"})"
      ],
      "execution_count": 139,
      "outputs": [
        {
          "output_type": "execute_result",
          "data": {
            "text/html": [
              "<div>\n",
              "<style scoped>\n",
              "    .dataframe tbody tr th:only-of-type {\n",
              "        vertical-align: middle;\n",
              "    }\n",
              "\n",
              "    .dataframe tbody tr th {\n",
              "        vertical-align: top;\n",
              "    }\n",
              "\n",
              "    .dataframe thead th {\n",
              "        text-align: right;\n",
              "    }\n",
              "</style>\n",
              "<table border=\"1\" class=\"dataframe\">\n",
              "  <thead>\n",
              "    <tr style=\"text-align: right;\">\n",
              "      <th></th>\n",
              "      <th></th>\n",
              "      <th>Total Revenue</th>\n",
              "      <th>Total Servicing Hrs</th>\n",
              "      <th>Customer No.</th>\n",
              "    </tr>\n",
              "    <tr>\n",
              "      <th>Clusters</th>\n",
              "      <th>Order Type</th>\n",
              "      <th></th>\n",
              "      <th></th>\n",
              "      <th></th>\n",
              "    </tr>\n",
              "  </thead>\n",
              "  <tbody>\n",
              "    <tr>\n",
              "      <th rowspan=\"5\" valign=\"top\">0</th>\n",
              "      <th>Accidental</th>\n",
              "      <td>10361.866083</td>\n",
              "      <td>127.736928</td>\n",
              "      <td>3163</td>\n",
              "    </tr>\n",
              "    <tr>\n",
              "      <th>Paid Service</th>\n",
              "      <td>5239.196784</td>\n",
              "      <td>46.507308</td>\n",
              "      <td>16143</td>\n",
              "    </tr>\n",
              "    <tr>\n",
              "      <th>Running Repairs</th>\n",
              "      <td>3840.706160</td>\n",
              "      <td>39.868872</td>\n",
              "      <td>27920</td>\n",
              "    </tr>\n",
              "    <tr>\n",
              "      <th>SMC Redemption</th>\n",
              "      <td>1794.734323</td>\n",
              "      <td>46.519759</td>\n",
              "      <td>266</td>\n",
              "    </tr>\n",
              "    <tr>\n",
              "      <th>SMC Value Package</th>\n",
              "      <td>3386.685723</td>\n",
              "      <td>9.608473</td>\n",
              "      <td>1564</td>\n",
              "    </tr>\n",
              "    <tr>\n",
              "      <th rowspan=\"5\" valign=\"top\">1</th>\n",
              "      <th>Accidental</th>\n",
              "      <td>96829.319036</td>\n",
              "      <td>1009.645815</td>\n",
              "      <td>1400</td>\n",
              "    </tr>\n",
              "    <tr>\n",
              "      <th>Paid Service</th>\n",
              "      <td>43747.991968</td>\n",
              "      <td>1479.723521</td>\n",
              "      <td>371</td>\n",
              "    </tr>\n",
              "    <tr>\n",
              "      <th>Running Repairs</th>\n",
              "      <td>53725.294839</td>\n",
              "      <td>1385.251059</td>\n",
              "      <td>589</td>\n",
              "    </tr>\n",
              "    <tr>\n",
              "      <th>SMC Redemption</th>\n",
              "      <td>2781.500000</td>\n",
              "      <td>1683.052847</td>\n",
              "      <td>2</td>\n",
              "    </tr>\n",
              "    <tr>\n",
              "      <th>SMC Value Package</th>\n",
              "      <td>59931.410000</td>\n",
              "      <td>1017.001731</td>\n",
              "      <td>3</td>\n",
              "    </tr>\n",
              "    <tr>\n",
              "      <th rowspan=\"4\" valign=\"top\">2</th>\n",
              "      <th>Repeat Order</th>\n",
              "      <td>3966.740000</td>\n",
              "      <td>22.913333</td>\n",
              "      <td>1</td>\n",
              "    </tr>\n",
              "    <tr>\n",
              "      <th>Running Repairs</th>\n",
              "      <td>4724.249822</td>\n",
              "      <td>39.784450</td>\n",
              "      <td>36477</td>\n",
              "    </tr>\n",
              "    <tr>\n",
              "      <th>SMC Redemption</th>\n",
              "      <td>1961.354691</td>\n",
              "      <td>51.617591</td>\n",
              "      <td>437</td>\n",
              "    </tr>\n",
              "    <tr>\n",
              "      <th>SMC Value Package</th>\n",
              "      <td>3791.830477</td>\n",
              "      <td>7.169019</td>\n",
              "      <td>4776</td>\n",
              "    </tr>\n",
              "    <tr>\n",
              "      <th rowspan=\"2\" valign=\"top\">3</th>\n",
              "      <th>Accidental</th>\n",
              "      <td>13687.056212</td>\n",
              "      <td>146.016623</td>\n",
              "      <td>11762</td>\n",
              "    </tr>\n",
              "    <tr>\n",
              "      <th>Paid Service</th>\n",
              "      <td>6808.340399</td>\n",
              "      <td>52.957099</td>\n",
              "      <td>22200</td>\n",
              "    </tr>\n",
              "    <tr>\n",
              "      <th rowspan=\"4\" valign=\"top\">4</th>\n",
              "      <th>Accidental</th>\n",
              "      <td>26168.632424</td>\n",
              "      <td>265.650044</td>\n",
              "      <td>66</td>\n",
              "    </tr>\n",
              "    <tr>\n",
              "      <th>Paid Service</th>\n",
              "      <td>28699.029184</td>\n",
              "      <td>111.309013</td>\n",
              "      <td>98</td>\n",
              "    </tr>\n",
              "    <tr>\n",
              "      <th>Running Repairs</th>\n",
              "      <td>26346.237248</td>\n",
              "      <td>70.769219</td>\n",
              "      <td>149</td>\n",
              "    </tr>\n",
              "    <tr>\n",
              "      <th>SMC Value Package</th>\n",
              "      <td>6500.343333</td>\n",
              "      <td>9.728657</td>\n",
              "      <td>3</td>\n",
              "    </tr>\n",
              "    <tr>\n",
              "      <th rowspan=\"5\" valign=\"top\">5</th>\n",
              "      <th>Accidental</th>\n",
              "      <td>13927.306296</td>\n",
              "      <td>140.370456</td>\n",
              "      <td>3583</td>\n",
              "    </tr>\n",
              "    <tr>\n",
              "      <th>Paid Service</th>\n",
              "      <td>6158.571831</td>\n",
              "      <td>72.590320</td>\n",
              "      <td>7433</td>\n",
              "    </tr>\n",
              "    <tr>\n",
              "      <th>Running Repairs</th>\n",
              "      <td>3864.339211</td>\n",
              "      <td>46.730744</td>\n",
              "      <td>15810</td>\n",
              "    </tr>\n",
              "    <tr>\n",
              "      <th>SMC Redemption</th>\n",
              "      <td>1862.737288</td>\n",
              "      <td>31.720014</td>\n",
              "      <td>118</td>\n",
              "    </tr>\n",
              "    <tr>\n",
              "      <th>SMC Value Package</th>\n",
              "      <td>3260.684708</td>\n",
              "      <td>13.497188</td>\n",
              "      <td>926</td>\n",
              "    </tr>\n",
              "  </tbody>\n",
              "</table>\n",
              "</div>"
            ],
            "text/plain": [
              "                            Total Revenue  Total Servicing Hrs  Customer No.\n",
              "Clusters Order Type                                                         \n",
              "0        Accidental          10361.866083           127.736928          3163\n",
              "         Paid Service         5239.196784            46.507308         16143\n",
              "         Running Repairs      3840.706160            39.868872         27920\n",
              "         SMC Redemption       1794.734323            46.519759           266\n",
              "         SMC Value Package    3386.685723             9.608473          1564\n",
              "1        Accidental          96829.319036          1009.645815          1400\n",
              "         Paid Service        43747.991968          1479.723521           371\n",
              "         Running Repairs     53725.294839          1385.251059           589\n",
              "         SMC Redemption       2781.500000          1683.052847             2\n",
              "         SMC Value Package   59931.410000          1017.001731             3\n",
              "2        Repeat Order         3966.740000            22.913333             1\n",
              "         Running Repairs      4724.249822            39.784450         36477\n",
              "         SMC Redemption       1961.354691            51.617591           437\n",
              "         SMC Value Package    3791.830477             7.169019          4776\n",
              "3        Accidental          13687.056212           146.016623         11762\n",
              "         Paid Service         6808.340399            52.957099         22200\n",
              "4        Accidental          26168.632424           265.650044            66\n",
              "         Paid Service        28699.029184           111.309013            98\n",
              "         Running Repairs     26346.237248            70.769219           149\n",
              "         SMC Value Package    6500.343333             9.728657             3\n",
              "5        Accidental          13927.306296           140.370456          3583\n",
              "         Paid Service         6158.571831            72.590320          7433\n",
              "         Running Repairs      3864.339211            46.730744         15810\n",
              "         SMC Redemption       1862.737288            31.720014           118\n",
              "         SMC Value Package    3260.684708            13.497188           926"
            ]
          },
          "metadata": {
            "tags": []
          },
          "execution_count": 139
        }
      ]
    },
    {
      "cell_type": "code",
      "metadata": {
        "id": "hDjkGZkosedQ",
        "colab_type": "code",
        "colab": {}
      },
      "source": [
        "cluster_excel.columns = ['Avg revenue','Avg Servicing Hrs','Customer Count']"
      ],
      "execution_count": 0,
      "outputs": []
    },
    {
      "cell_type": "code",
      "metadata": {
        "id": "oL8nWgLNsi0-",
        "colab_type": "code",
        "colab": {}
      },
      "source": [
        "cluster_Excel = cluster_excel.reset_index()"
      ],
      "execution_count": 0,
      "outputs": []
    },
    {
      "cell_type": "code",
      "metadata": {
        "id": "GPxOQPTHskPW",
        "colab_type": "code",
        "colab": {
          "base_uri": "https://localhost:8080/",
          "height": 509
        },
        "outputId": "183b525b-0f57-46c6-88ab-012aaab93759"
      },
      "source": [
        "cluster_excel.sort_values(by='Clusters')"
      ],
      "execution_count": 142,
      "outputs": [
        {
          "output_type": "execute_result",
          "data": {
            "text/html": [
              "<div>\n",
              "<style scoped>\n",
              "    .dataframe tbody tr th:only-of-type {\n",
              "        vertical-align: middle;\n",
              "    }\n",
              "\n",
              "    .dataframe tbody tr th {\n",
              "        vertical-align: top;\n",
              "    }\n",
              "\n",
              "    .dataframe thead th {\n",
              "        text-align: right;\n",
              "    }\n",
              "</style>\n",
              "<table border=\"1\" class=\"dataframe\">\n",
              "  <thead>\n",
              "    <tr style=\"text-align: right;\">\n",
              "      <th></th>\n",
              "      <th></th>\n",
              "      <th>Avg revenue</th>\n",
              "      <th>Avg Servicing Hrs</th>\n",
              "      <th>Customer Count</th>\n",
              "    </tr>\n",
              "    <tr>\n",
              "      <th>Clusters</th>\n",
              "      <th>Cust Type</th>\n",
              "      <th></th>\n",
              "      <th></th>\n",
              "      <th></th>\n",
              "    </tr>\n",
              "  </thead>\n",
              "  <tbody>\n",
              "    <tr>\n",
              "      <th rowspan=\"3\" valign=\"top\">0</th>\n",
              "      <th>Insurance</th>\n",
              "      <td>4235.490000</td>\n",
              "      <td>48.614722</td>\n",
              "      <td>1</td>\n",
              "    </tr>\n",
              "    <tr>\n",
              "      <th>Retail</th>\n",
              "      <td>4695.315658</td>\n",
              "      <td>46.780181</td>\n",
              "      <td>49032</td>\n",
              "    </tr>\n",
              "    <tr>\n",
              "      <th>MFCWL</th>\n",
              "      <td>5768.480435</td>\n",
              "      <td>68.076620</td>\n",
              "      <td>23</td>\n",
              "    </tr>\n",
              "    <tr>\n",
              "      <th rowspan=\"2\" valign=\"top\">1</th>\n",
              "      <th>Retail</th>\n",
              "      <td>77495.639513</td>\n",
              "      <td>1169.991374</td>\n",
              "      <td>2363</td>\n",
              "    </tr>\n",
              "    <tr>\n",
              "      <th>Fleets</th>\n",
              "      <td>249455.695000</td>\n",
              "      <td>10060.966806</td>\n",
              "      <td>2</td>\n",
              "    </tr>\n",
              "    <tr>\n",
              "      <th rowspan=\"2\" valign=\"top\">2</th>\n",
              "      <th>Retail</th>\n",
              "      <td>4588.217676</td>\n",
              "      <td>36.166214</td>\n",
              "      <td>41677</td>\n",
              "    </tr>\n",
              "    <tr>\n",
              "      <th>MFCWL</th>\n",
              "      <td>5298.126429</td>\n",
              "      <td>52.651258</td>\n",
              "      <td>14</td>\n",
              "    </tr>\n",
              "    <tr>\n",
              "      <th rowspan=\"2\" valign=\"top\">3</th>\n",
              "      <th>MFCWL</th>\n",
              "      <td>6032.854444</td>\n",
              "      <td>77.133719</td>\n",
              "      <td>9</td>\n",
              "    </tr>\n",
              "    <tr>\n",
              "      <th>Retail</th>\n",
              "      <td>9191.471043</td>\n",
              "      <td>85.188376</td>\n",
              "      <td>33953</td>\n",
              "    </tr>\n",
              "    <tr>\n",
              "      <th rowspan=\"3\" valign=\"top\">4</th>\n",
              "      <th>Fleets</th>\n",
              "      <td>21411.526786</td>\n",
              "      <td>97.065043</td>\n",
              "      <td>140</td>\n",
              "    </tr>\n",
              "    <tr>\n",
              "      <th>Corporate others</th>\n",
              "      <td>28796.560236</td>\n",
              "      <td>124.577390</td>\n",
              "      <td>127</td>\n",
              "    </tr>\n",
              "    <tr>\n",
              "      <th>Corporate- M&amp;M</th>\n",
              "      <td>37345.879184</td>\n",
              "      <td>196.011251</td>\n",
              "      <td>49</td>\n",
              "    </tr>\n",
              "    <tr>\n",
              "      <th rowspan=\"2\" valign=\"top\">5</th>\n",
              "      <th>Retail</th>\n",
              "      <td>5740.658218</td>\n",
              "      <td>64.475810</td>\n",
              "      <td>27859</td>\n",
              "    </tr>\n",
              "    <tr>\n",
              "      <th>MFCWL</th>\n",
              "      <td>7600.505455</td>\n",
              "      <td>121.275248</td>\n",
              "      <td>11</td>\n",
              "    </tr>\n",
              "  </tbody>\n",
              "</table>\n",
              "</div>"
            ],
            "text/plain": [
              "                             Avg revenue  Avg Servicing Hrs  Customer Count\n",
              "Clusters Cust Type                                                         \n",
              "0        Insurance           4235.490000          48.614722               1\n",
              "         Retail              4695.315658          46.780181           49032\n",
              "         MFCWL               5768.480435          68.076620              23\n",
              "1        Retail             77495.639513        1169.991374            2363\n",
              "         Fleets            249455.695000       10060.966806               2\n",
              "2        Retail              4588.217676          36.166214           41677\n",
              "         MFCWL               5298.126429          52.651258              14\n",
              "3        MFCWL               6032.854444          77.133719               9\n",
              "         Retail              9191.471043          85.188376           33953\n",
              "4        Fleets             21411.526786          97.065043             140\n",
              "         Corporate others   28796.560236         124.577390             127\n",
              "         Corporate- M&M     37345.879184         196.011251              49\n",
              "5        Retail              5740.658218          64.475810           27859\n",
              "         MFCWL               7600.505455         121.275248              11"
            ]
          },
          "metadata": {
            "tags": []
          },
          "execution_count": 142
        }
      ]
    },
    {
      "cell_type": "code",
      "metadata": {
        "id": "QaGbPVvhslzm",
        "colab_type": "code",
        "colab": {}
      },
      "source": [
        "cluster_excel.to_csv('cluster_representation.csv')"
      ],
      "execution_count": 0,
      "outputs": []
    },
    {
      "cell_type": "code",
      "metadata": {
        "id": "M97Gvm99soW2",
        "colab_type": "code",
        "colab": {
          "base_uri": "https://localhost:8080/",
          "height": 387
        },
        "outputId": "033ca104-df37-4e37-f45c-0d13002fdbc9"
      },
      "source": [
        "sns.lmplot(data=final_cluster,x='Total Servicing Hrs', y='Total Revenue', hue='Clusters', fit_reg=False, legend=True, legend_out=True,size=5,aspect=2,scatter_kws={\"s\": 100})"
      ],
      "execution_count": 144,
      "outputs": [
        {
          "output_type": "execute_result",
          "data": {
            "text/plain": [
              "<seaborn.axisgrid.FacetGrid at 0x7fb968064128>"
            ]
          },
          "metadata": {
            "tags": []
          },
          "execution_count": 144
        },
        {
          "output_type": "display_data",
          "data": {
            "image/png": "[encoded data removed]",
            "text/plain": [
              "<Figure size 768.75x360 with 1 Axes>"
            ]
          },
          "metadata": {
            "tags": [],
            "needs_background": "light"
          }
        }
      ]
    },
    {
      "cell_type": "code",
      "metadata": {
        "id": "oLiI-Hv-sqVD",
        "colab_type": "code",
        "colab": {}
      },
      "source": [
        ""
      ],
      "execution_count": 0,
      "outputs": []
    }
  ]
}